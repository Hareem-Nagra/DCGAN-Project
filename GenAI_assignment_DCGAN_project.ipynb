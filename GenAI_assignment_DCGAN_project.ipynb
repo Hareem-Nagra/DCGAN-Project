{
  "nbformat": 4,
  "nbformat_minor": 0,
  "metadata": {
    "colab": {
      "provenance": [],
      "gpuType": "A100",
      "machine_shape": "hm"
    },
    "kernelspec": {
      "name": "python3",
      "display_name": "Python 3"
    },
    "language_info": {
      "name": "python"
    },
    "accelerator": "GPU",
    "widgets": {
      "application/vnd.jupyter.widget-state+json": {
        "da8aa6e6a8de4009a710701a5555b0fd": {
          "model_module": "@jupyter-widgets/controls",
          "model_name": "HBoxModel",
          "model_module_version": "1.5.0",
          "state": {
            "_dom_classes": [],
            "_model_module": "@jupyter-widgets/controls",
            "_model_module_version": "1.5.0",
            "_model_name": "HBoxModel",
            "_view_count": null,
            "_view_module": "@jupyter-widgets/controls",
            "_view_module_version": "1.5.0",
            "_view_name": "HBoxView",
            "box_style": "",
            "children": [
              "IPY_MODEL_92e2f0f094b842808a9e0c12478d7fd9",
              "IPY_MODEL_bba9829f4498487ca823c6f744060936",
              "IPY_MODEL_696014fbfa5045c89ae6994129ec265a"
            ],
            "layout": "IPY_MODEL_523564fa7a6949489df5420a589b2f07"
          }
        },
        "92e2f0f094b842808a9e0c12478d7fd9": {
          "model_module": "@jupyter-widgets/controls",
          "model_name": "HTMLModel",
          "model_module_version": "1.5.0",
          "state": {
            "_dom_classes": [],
            "_model_module": "@jupyter-widgets/controls",
            "_model_module_version": "1.5.0",
            "_model_name": "HTMLModel",
            "_view_count": null,
            "_view_module": "@jupyter-widgets/controls",
            "_view_module_version": "1.5.0",
            "_view_name": "HTMLView",
            "description": "",
            "description_tooltip": null,
            "layout": "IPY_MODEL_1c9f71e675744492bf1dbe6e7032ae71",
            "placeholder": "​",
            "style": "IPY_MODEL_12e59ded433c4b6ea45679db67c0f7e8",
            "value": "dataset_infos.json: 100%"
          }
        },
        "bba9829f4498487ca823c6f744060936": {
          "model_module": "@jupyter-widgets/controls",
          "model_name": "FloatProgressModel",
          "model_module_version": "1.5.0",
          "state": {
            "_dom_classes": [],
            "_model_module": "@jupyter-widgets/controls",
            "_model_module_version": "1.5.0",
            "_model_name": "FloatProgressModel",
            "_view_count": null,
            "_view_module": "@jupyter-widgets/controls",
            "_view_module_version": "1.5.0",
            "_view_name": "ProgressView",
            "bar_style": "success",
            "description": "",
            "description_tooltip": null,
            "layout": "IPY_MODEL_c58b2b4d93c7482baf3656bb5f0eb5d4",
            "max": 824,
            "min": 0,
            "orientation": "horizontal",
            "style": "IPY_MODEL_83c5d32b34ef475dabc58a49fcad5046",
            "value": 824
          }
        },
        "696014fbfa5045c89ae6994129ec265a": {
          "model_module": "@jupyter-widgets/controls",
          "model_name": "HTMLModel",
          "model_module_version": "1.5.0",
          "state": {
            "_dom_classes": [],
            "_model_module": "@jupyter-widgets/controls",
            "_model_module_version": "1.5.0",
            "_model_name": "HTMLModel",
            "_view_count": null,
            "_view_module": "@jupyter-widgets/controls",
            "_view_module_version": "1.5.0",
            "_view_name": "HTMLView",
            "description": "",
            "description_tooltip": null,
            "layout": "IPY_MODEL_653a49555da04591abc5b429abaae7e8",
            "placeholder": "​",
            "style": "IPY_MODEL_9ad45c0cef59401ca076141cbe2e887b",
            "value": " 824/824 [00:00&lt;00:00, 104kB/s]"
          }
        },
        "523564fa7a6949489df5420a589b2f07": {
          "model_module": "@jupyter-widgets/base",
          "model_name": "LayoutModel",
          "model_module_version": "1.2.0",
          "state": {
            "_model_module": "@jupyter-widgets/base",
            "_model_module_version": "1.2.0",
            "_model_name": "LayoutModel",
            "_view_count": null,
            "_view_module": "@jupyter-widgets/base",
            "_view_module_version": "1.2.0",
            "_view_name": "LayoutView",
            "align_content": null,
            "align_items": null,
            "align_self": null,
            "border": null,
            "bottom": null,
            "display": null,
            "flex": null,
            "flex_flow": null,
            "grid_area": null,
            "grid_auto_columns": null,
            "grid_auto_flow": null,
            "grid_auto_rows": null,
            "grid_column": null,
            "grid_gap": null,
            "grid_row": null,
            "grid_template_areas": null,
            "grid_template_columns": null,
            "grid_template_rows": null,
            "height": null,
            "justify_content": null,
            "justify_items": null,
            "left": null,
            "margin": null,
            "max_height": null,
            "max_width": null,
            "min_height": null,
            "min_width": null,
            "object_fit": null,
            "object_position": null,
            "order": null,
            "overflow": null,
            "overflow_x": null,
            "overflow_y": null,
            "padding": null,
            "right": null,
            "top": null,
            "visibility": null,
            "width": null
          }
        },
        "1c9f71e675744492bf1dbe6e7032ae71": {
          "model_module": "@jupyter-widgets/base",
          "model_name": "LayoutModel",
          "model_module_version": "1.2.0",
          "state": {
            "_model_module": "@jupyter-widgets/base",
            "_model_module_version": "1.2.0",
            "_model_name": "LayoutModel",
            "_view_count": null,
            "_view_module": "@jupyter-widgets/base",
            "_view_module_version": "1.2.0",
            "_view_name": "LayoutView",
            "align_content": null,
            "align_items": null,
            "align_self": null,
            "border": null,
            "bottom": null,
            "display": null,
            "flex": null,
            "flex_flow": null,
            "grid_area": null,
            "grid_auto_columns": null,
            "grid_auto_flow": null,
            "grid_auto_rows": null,
            "grid_column": null,
            "grid_gap": null,
            "grid_row": null,
            "grid_template_areas": null,
            "grid_template_columns": null,
            "grid_template_rows": null,
            "height": null,
            "justify_content": null,
            "justify_items": null,
            "left": null,
            "margin": null,
            "max_height": null,
            "max_width": null,
            "min_height": null,
            "min_width": null,
            "object_fit": null,
            "object_position": null,
            "order": null,
            "overflow": null,
            "overflow_x": null,
            "overflow_y": null,
            "padding": null,
            "right": null,
            "top": null,
            "visibility": null,
            "width": null
          }
        },
        "12e59ded433c4b6ea45679db67c0f7e8": {
          "model_module": "@jupyter-widgets/controls",
          "model_name": "DescriptionStyleModel",
          "model_module_version": "1.5.0",
          "state": {
            "_model_module": "@jupyter-widgets/controls",
            "_model_module_version": "1.5.0",
            "_model_name": "DescriptionStyleModel",
            "_view_count": null,
            "_view_module": "@jupyter-widgets/base",
            "_view_module_version": "1.2.0",
            "_view_name": "StyleView",
            "description_width": ""
          }
        },
        "c58b2b4d93c7482baf3656bb5f0eb5d4": {
          "model_module": "@jupyter-widgets/base",
          "model_name": "LayoutModel",
          "model_module_version": "1.2.0",
          "state": {
            "_model_module": "@jupyter-widgets/base",
            "_model_module_version": "1.2.0",
            "_model_name": "LayoutModel",
            "_view_count": null,
            "_view_module": "@jupyter-widgets/base",
            "_view_module_version": "1.2.0",
            "_view_name": "LayoutView",
            "align_content": null,
            "align_items": null,
            "align_self": null,
            "border": null,
            "bottom": null,
            "display": null,
            "flex": null,
            "flex_flow": null,
            "grid_area": null,
            "grid_auto_columns": null,
            "grid_auto_flow": null,
            "grid_auto_rows": null,
            "grid_column": null,
            "grid_gap": null,
            "grid_row": null,
            "grid_template_areas": null,
            "grid_template_columns": null,
            "grid_template_rows": null,
            "height": null,
            "justify_content": null,
            "justify_items": null,
            "left": null,
            "margin": null,
            "max_height": null,
            "max_width": null,
            "min_height": null,
            "min_width": null,
            "object_fit": null,
            "object_position": null,
            "order": null,
            "overflow": null,
            "overflow_x": null,
            "overflow_y": null,
            "padding": null,
            "right": null,
            "top": null,
            "visibility": null,
            "width": null
          }
        },
        "83c5d32b34ef475dabc58a49fcad5046": {
          "model_module": "@jupyter-widgets/controls",
          "model_name": "ProgressStyleModel",
          "model_module_version": "1.5.0",
          "state": {
            "_model_module": "@jupyter-widgets/controls",
            "_model_module_version": "1.5.0",
            "_model_name": "ProgressStyleModel",
            "_view_count": null,
            "_view_module": "@jupyter-widgets/base",
            "_view_module_version": "1.2.0",
            "_view_name": "StyleView",
            "bar_color": null,
            "description_width": ""
          }
        },
        "653a49555da04591abc5b429abaae7e8": {
          "model_module": "@jupyter-widgets/base",
          "model_name": "LayoutModel",
          "model_module_version": "1.2.0",
          "state": {
            "_model_module": "@jupyter-widgets/base",
            "_model_module_version": "1.2.0",
            "_model_name": "LayoutModel",
            "_view_count": null,
            "_view_module": "@jupyter-widgets/base",
            "_view_module_version": "1.2.0",
            "_view_name": "LayoutView",
            "align_content": null,
            "align_items": null,
            "align_self": null,
            "border": null,
            "bottom": null,
            "display": null,
            "flex": null,
            "flex_flow": null,
            "grid_area": null,
            "grid_auto_columns": null,
            "grid_auto_flow": null,
            "grid_auto_rows": null,
            "grid_column": null,
            "grid_gap": null,
            "grid_row": null,
            "grid_template_areas": null,
            "grid_template_columns": null,
            "grid_template_rows": null,
            "height": null,
            "justify_content": null,
            "justify_items": null,
            "left": null,
            "margin": null,
            "max_height": null,
            "max_width": null,
            "min_height": null,
            "min_width": null,
            "object_fit": null,
            "object_position": null,
            "order": null,
            "overflow": null,
            "overflow_x": null,
            "overflow_y": null,
            "padding": null,
            "right": null,
            "top": null,
            "visibility": null,
            "width": null
          }
        },
        "9ad45c0cef59401ca076141cbe2e887b": {
          "model_module": "@jupyter-widgets/controls",
          "model_name": "DescriptionStyleModel",
          "model_module_version": "1.5.0",
          "state": {
            "_model_module": "@jupyter-widgets/controls",
            "_model_module_version": "1.5.0",
            "_model_name": "DescriptionStyleModel",
            "_view_count": null,
            "_view_module": "@jupyter-widgets/base",
            "_view_module_version": "1.2.0",
            "_view_name": "StyleView",
            "description_width": ""
          }
        },
        "167c90a3705f4e5c9201eb1c8ccb883d": {
          "model_module": "@jupyter-widgets/controls",
          "model_name": "HBoxModel",
          "model_module_version": "1.5.0",
          "state": {
            "_dom_classes": [],
            "_model_module": "@jupyter-widgets/controls",
            "_model_module_version": "1.5.0",
            "_model_name": "HBoxModel",
            "_view_count": null,
            "_view_module": "@jupyter-widgets/controls",
            "_view_module_version": "1.5.0",
            "_view_name": "HBoxView",
            "box_style": "",
            "children": [
              "IPY_MODEL_341c0b70bb7c4664818c1b618e7336a3",
              "IPY_MODEL_59f6b43acd114ef0a80c35bcaef3a3e1",
              "IPY_MODEL_4d283ffac4c4437b8efffc3626765ad5"
            ],
            "layout": "IPY_MODEL_964504ddfea24d74a2692a562c2a548d"
          }
        },
        "341c0b70bb7c4664818c1b618e7336a3": {
          "model_module": "@jupyter-widgets/controls",
          "model_name": "HTMLModel",
          "model_module_version": "1.5.0",
          "state": {
            "_dom_classes": [],
            "_model_module": "@jupyter-widgets/controls",
            "_model_module_version": "1.5.0",
            "_model_name": "HTMLModel",
            "_view_count": null,
            "_view_module": "@jupyter-widgets/controls",
            "_view_module_version": "1.5.0",
            "_view_name": "HTMLView",
            "description": "",
            "description_tooltip": null,
            "layout": "IPY_MODEL_a59e59802f7940bcbcb41015db2b07ff",
            "placeholder": "​",
            "style": "IPY_MODEL_12fe8c09167545d4b454e3fab81a8d54",
            "value": "train-00000-of-00002.parquet: 100%"
          }
        },
        "59f6b43acd114ef0a80c35bcaef3a3e1": {
          "model_module": "@jupyter-widgets/controls",
          "model_name": "FloatProgressModel",
          "model_module_version": "1.5.0",
          "state": {
            "_dom_classes": [],
            "_model_module": "@jupyter-widgets/controls",
            "_model_module_version": "1.5.0",
            "_model_name": "FloatProgressModel",
            "_view_count": null,
            "_view_module": "@jupyter-widgets/controls",
            "_view_module_version": "1.5.0",
            "_view_name": "ProgressView",
            "bar_style": "success",
            "description": "",
            "description_tooltip": null,
            "layout": "IPY_MODEL_e76e4a8faa874252827e98766804e211",
            "max": 358316010,
            "min": 0,
            "orientation": "horizontal",
            "style": "IPY_MODEL_c2faaefd613445c582700c9f42ce7da0",
            "value": 358316010
          }
        },
        "4d283ffac4c4437b8efffc3626765ad5": {
          "model_module": "@jupyter-widgets/controls",
          "model_name": "HTMLModel",
          "model_module_version": "1.5.0",
          "state": {
            "_dom_classes": [],
            "_model_module": "@jupyter-widgets/controls",
            "_model_module_version": "1.5.0",
            "_model_name": "HTMLModel",
            "_view_count": null,
            "_view_module": "@jupyter-widgets/controls",
            "_view_module_version": "1.5.0",
            "_view_name": "HTMLView",
            "description": "",
            "description_tooltip": null,
            "layout": "IPY_MODEL_e6bef0b7448a4f8aa3e7b857a733e12e",
            "placeholder": "​",
            "style": "IPY_MODEL_f95ab275b3564870b19535598b25e130",
            "value": " 358M/358M [00:01&lt;00:00, 243MB/s]"
          }
        },
        "964504ddfea24d74a2692a562c2a548d": {
          "model_module": "@jupyter-widgets/base",
          "model_name": "LayoutModel",
          "model_module_version": "1.2.0",
          "state": {
            "_model_module": "@jupyter-widgets/base",
            "_model_module_version": "1.2.0",
            "_model_name": "LayoutModel",
            "_view_count": null,
            "_view_module": "@jupyter-widgets/base",
            "_view_module_version": "1.2.0",
            "_view_name": "LayoutView",
            "align_content": null,
            "align_items": null,
            "align_self": null,
            "border": null,
            "bottom": null,
            "display": null,
            "flex": null,
            "flex_flow": null,
            "grid_area": null,
            "grid_auto_columns": null,
            "grid_auto_flow": null,
            "grid_auto_rows": null,
            "grid_column": null,
            "grid_gap": null,
            "grid_row": null,
            "grid_template_areas": null,
            "grid_template_columns": null,
            "grid_template_rows": null,
            "height": null,
            "justify_content": null,
            "justify_items": null,
            "left": null,
            "margin": null,
            "max_height": null,
            "max_width": null,
            "min_height": null,
            "min_width": null,
            "object_fit": null,
            "object_position": null,
            "order": null,
            "overflow": null,
            "overflow_x": null,
            "overflow_y": null,
            "padding": null,
            "right": null,
            "top": null,
            "visibility": null,
            "width": null
          }
        },
        "a59e59802f7940bcbcb41015db2b07ff": {
          "model_module": "@jupyter-widgets/base",
          "model_name": "LayoutModel",
          "model_module_version": "1.2.0",
          "state": {
            "_model_module": "@jupyter-widgets/base",
            "_model_module_version": "1.2.0",
            "_model_name": "LayoutModel",
            "_view_count": null,
            "_view_module": "@jupyter-widgets/base",
            "_view_module_version": "1.2.0",
            "_view_name": "LayoutView",
            "align_content": null,
            "align_items": null,
            "align_self": null,
            "border": null,
            "bottom": null,
            "display": null,
            "flex": null,
            "flex_flow": null,
            "grid_area": null,
            "grid_auto_columns": null,
            "grid_auto_flow": null,
            "grid_auto_rows": null,
            "grid_column": null,
            "grid_gap": null,
            "grid_row": null,
            "grid_template_areas": null,
            "grid_template_columns": null,
            "grid_template_rows": null,
            "height": null,
            "justify_content": null,
            "justify_items": null,
            "left": null,
            "margin": null,
            "max_height": null,
            "max_width": null,
            "min_height": null,
            "min_width": null,
            "object_fit": null,
            "object_position": null,
            "order": null,
            "overflow": null,
            "overflow_x": null,
            "overflow_y": null,
            "padding": null,
            "right": null,
            "top": null,
            "visibility": null,
            "width": null
          }
        },
        "12fe8c09167545d4b454e3fab81a8d54": {
          "model_module": "@jupyter-widgets/controls",
          "model_name": "DescriptionStyleModel",
          "model_module_version": "1.5.0",
          "state": {
            "_model_module": "@jupyter-widgets/controls",
            "_model_module_version": "1.5.0",
            "_model_name": "DescriptionStyleModel",
            "_view_count": null,
            "_view_module": "@jupyter-widgets/base",
            "_view_module_version": "1.2.0",
            "_view_name": "StyleView",
            "description_width": ""
          }
        },
        "e76e4a8faa874252827e98766804e211": {
          "model_module": "@jupyter-widgets/base",
          "model_name": "LayoutModel",
          "model_module_version": "1.2.0",
          "state": {
            "_model_module": "@jupyter-widgets/base",
            "_model_module_version": "1.2.0",
            "_model_name": "LayoutModel",
            "_view_count": null,
            "_view_module": "@jupyter-widgets/base",
            "_view_module_version": "1.2.0",
            "_view_name": "LayoutView",
            "align_content": null,
            "align_items": null,
            "align_self": null,
            "border": null,
            "bottom": null,
            "display": null,
            "flex": null,
            "flex_flow": null,
            "grid_area": null,
            "grid_auto_columns": null,
            "grid_auto_flow": null,
            "grid_auto_rows": null,
            "grid_column": null,
            "grid_gap": null,
            "grid_row": null,
            "grid_template_areas": null,
            "grid_template_columns": null,
            "grid_template_rows": null,
            "height": null,
            "justify_content": null,
            "justify_items": null,
            "left": null,
            "margin": null,
            "max_height": null,
            "max_width": null,
            "min_height": null,
            "min_width": null,
            "object_fit": null,
            "object_position": null,
            "order": null,
            "overflow": null,
            "overflow_x": null,
            "overflow_y": null,
            "padding": null,
            "right": null,
            "top": null,
            "visibility": null,
            "width": null
          }
        },
        "c2faaefd613445c582700c9f42ce7da0": {
          "model_module": "@jupyter-widgets/controls",
          "model_name": "ProgressStyleModel",
          "model_module_version": "1.5.0",
          "state": {
            "_model_module": "@jupyter-widgets/controls",
            "_model_module_version": "1.5.0",
            "_model_name": "ProgressStyleModel",
            "_view_count": null,
            "_view_module": "@jupyter-widgets/base",
            "_view_module_version": "1.2.0",
            "_view_name": "StyleView",
            "bar_color": null,
            "description_width": ""
          }
        },
        "e6bef0b7448a4f8aa3e7b857a733e12e": {
          "model_module": "@jupyter-widgets/base",
          "model_name": "LayoutModel",
          "model_module_version": "1.2.0",
          "state": {
            "_model_module": "@jupyter-widgets/base",
            "_model_module_version": "1.2.0",
            "_model_name": "LayoutModel",
            "_view_count": null,
            "_view_module": "@jupyter-widgets/base",
            "_view_module_version": "1.2.0",
            "_view_name": "LayoutView",
            "align_content": null,
            "align_items": null,
            "align_self": null,
            "border": null,
            "bottom": null,
            "display": null,
            "flex": null,
            "flex_flow": null,
            "grid_area": null,
            "grid_auto_columns": null,
            "grid_auto_flow": null,
            "grid_auto_rows": null,
            "grid_column": null,
            "grid_gap": null,
            "grid_row": null,
            "grid_template_areas": null,
            "grid_template_columns": null,
            "grid_template_rows": null,
            "height": null,
            "justify_content": null,
            "justify_items": null,
            "left": null,
            "margin": null,
            "max_height": null,
            "max_width": null,
            "min_height": null,
            "min_width": null,
            "object_fit": null,
            "object_position": null,
            "order": null,
            "overflow": null,
            "overflow_x": null,
            "overflow_y": null,
            "padding": null,
            "right": null,
            "top": null,
            "visibility": null,
            "width": null
          }
        },
        "f95ab275b3564870b19535598b25e130": {
          "model_module": "@jupyter-widgets/controls",
          "model_name": "DescriptionStyleModel",
          "model_module_version": "1.5.0",
          "state": {
            "_model_module": "@jupyter-widgets/controls",
            "_model_module_version": "1.5.0",
            "_model_name": "DescriptionStyleModel",
            "_view_count": null,
            "_view_module": "@jupyter-widgets/base",
            "_view_module_version": "1.2.0",
            "_view_name": "StyleView",
            "description_width": ""
          }
        },
        "09cf2b2ad4a0416f94f9c043e46ee957": {
          "model_module": "@jupyter-widgets/controls",
          "model_name": "HBoxModel",
          "model_module_version": "1.5.0",
          "state": {
            "_dom_classes": [],
            "_model_module": "@jupyter-widgets/controls",
            "_model_module_version": "1.5.0",
            "_model_name": "HBoxModel",
            "_view_count": null,
            "_view_module": "@jupyter-widgets/controls",
            "_view_module_version": "1.5.0",
            "_view_name": "HBoxView",
            "box_style": "",
            "children": [
              "IPY_MODEL_d8ae891521f94b3682019b362717739b",
              "IPY_MODEL_f5750e3b6c804647bd557bbe58229e1e",
              "IPY_MODEL_e04251dd10dd42feaf484bc309df9cb6"
            ],
            "layout": "IPY_MODEL_363e10274a4c406b90179d7b4987054d"
          }
        },
        "d8ae891521f94b3682019b362717739b": {
          "model_module": "@jupyter-widgets/controls",
          "model_name": "HTMLModel",
          "model_module_version": "1.5.0",
          "state": {
            "_dom_classes": [],
            "_model_module": "@jupyter-widgets/controls",
            "_model_module_version": "1.5.0",
            "_model_name": "HTMLModel",
            "_view_count": null,
            "_view_module": "@jupyter-widgets/controls",
            "_view_module_version": "1.5.0",
            "_view_name": "HTMLView",
            "description": "",
            "description_tooltip": null,
            "layout": "IPY_MODEL_08966320f4f84bc4a81100860b6fde5a",
            "placeholder": "​",
            "style": "IPY_MODEL_d4846c20cdc64b83b7088d886a748ae4",
            "value": "train-00001-of-00002.parquet: 100%"
          }
        },
        "f5750e3b6c804647bd557bbe58229e1e": {
          "model_module": "@jupyter-widgets/controls",
          "model_name": "FloatProgressModel",
          "model_module_version": "1.5.0",
          "state": {
            "_dom_classes": [],
            "_model_module": "@jupyter-widgets/controls",
            "_model_module_version": "1.5.0",
            "_model_name": "FloatProgressModel",
            "_view_count": null,
            "_view_module": "@jupyter-widgets/controls",
            "_view_module_version": "1.5.0",
            "_view_name": "ProgressView",
            "bar_style": "success",
            "description": "",
            "description_tooltip": null,
            "layout": "IPY_MODEL_997088ffc4b94df99312ef48f94408fc",
            "max": 370917091,
            "min": 0,
            "orientation": "horizontal",
            "style": "IPY_MODEL_0f1460a207d44e46ac53d9f5f4b09200",
            "value": 370917091
          }
        },
        "e04251dd10dd42feaf484bc309df9cb6": {
          "model_module": "@jupyter-widgets/controls",
          "model_name": "HTMLModel",
          "model_module_version": "1.5.0",
          "state": {
            "_dom_classes": [],
            "_model_module": "@jupyter-widgets/controls",
            "_model_module_version": "1.5.0",
            "_model_name": "HTMLModel",
            "_view_count": null,
            "_view_module": "@jupyter-widgets/controls",
            "_view_module_version": "1.5.0",
            "_view_name": "HTMLView",
            "description": "",
            "description_tooltip": null,
            "layout": "IPY_MODEL_1da0b2525603495ba32d80f907572044",
            "placeholder": "​",
            "style": "IPY_MODEL_6ca7fccca36a405fb41418fec981414a",
            "value": " 371M/371M [00:01&lt;00:00, 239MB/s]"
          }
        },
        "363e10274a4c406b90179d7b4987054d": {
          "model_module": "@jupyter-widgets/base",
          "model_name": "LayoutModel",
          "model_module_version": "1.2.0",
          "state": {
            "_model_module": "@jupyter-widgets/base",
            "_model_module_version": "1.2.0",
            "_model_name": "LayoutModel",
            "_view_count": null,
            "_view_module": "@jupyter-widgets/base",
            "_view_module_version": "1.2.0",
            "_view_name": "LayoutView",
            "align_content": null,
            "align_items": null,
            "align_self": null,
            "border": null,
            "bottom": null,
            "display": null,
            "flex": null,
            "flex_flow": null,
            "grid_area": null,
            "grid_auto_columns": null,
            "grid_auto_flow": null,
            "grid_auto_rows": null,
            "grid_column": null,
            "grid_gap": null,
            "grid_row": null,
            "grid_template_areas": null,
            "grid_template_columns": null,
            "grid_template_rows": null,
            "height": null,
            "justify_content": null,
            "justify_items": null,
            "left": null,
            "margin": null,
            "max_height": null,
            "max_width": null,
            "min_height": null,
            "min_width": null,
            "object_fit": null,
            "object_position": null,
            "order": null,
            "overflow": null,
            "overflow_x": null,
            "overflow_y": null,
            "padding": null,
            "right": null,
            "top": null,
            "visibility": null,
            "width": null
          }
        },
        "08966320f4f84bc4a81100860b6fde5a": {
          "model_module": "@jupyter-widgets/base",
          "model_name": "LayoutModel",
          "model_module_version": "1.2.0",
          "state": {
            "_model_module": "@jupyter-widgets/base",
            "_model_module_version": "1.2.0",
            "_model_name": "LayoutModel",
            "_view_count": null,
            "_view_module": "@jupyter-widgets/base",
            "_view_module_version": "1.2.0",
            "_view_name": "LayoutView",
            "align_content": null,
            "align_items": null,
            "align_self": null,
            "border": null,
            "bottom": null,
            "display": null,
            "flex": null,
            "flex_flow": null,
            "grid_area": null,
            "grid_auto_columns": null,
            "grid_auto_flow": null,
            "grid_auto_rows": null,
            "grid_column": null,
            "grid_gap": null,
            "grid_row": null,
            "grid_template_areas": null,
            "grid_template_columns": null,
            "grid_template_rows": null,
            "height": null,
            "justify_content": null,
            "justify_items": null,
            "left": null,
            "margin": null,
            "max_height": null,
            "max_width": null,
            "min_height": null,
            "min_width": null,
            "object_fit": null,
            "object_position": null,
            "order": null,
            "overflow": null,
            "overflow_x": null,
            "overflow_y": null,
            "padding": null,
            "right": null,
            "top": null,
            "visibility": null,
            "width": null
          }
        },
        "d4846c20cdc64b83b7088d886a748ae4": {
          "model_module": "@jupyter-widgets/controls",
          "model_name": "DescriptionStyleModel",
          "model_module_version": "1.5.0",
          "state": {
            "_model_module": "@jupyter-widgets/controls",
            "_model_module_version": "1.5.0",
            "_model_name": "DescriptionStyleModel",
            "_view_count": null,
            "_view_module": "@jupyter-widgets/base",
            "_view_module_version": "1.2.0",
            "_view_name": "StyleView",
            "description_width": ""
          }
        },
        "997088ffc4b94df99312ef48f94408fc": {
          "model_module": "@jupyter-widgets/base",
          "model_name": "LayoutModel",
          "model_module_version": "1.2.0",
          "state": {
            "_model_module": "@jupyter-widgets/base",
            "_model_module_version": "1.2.0",
            "_model_name": "LayoutModel",
            "_view_count": null,
            "_view_module": "@jupyter-widgets/base",
            "_view_module_version": "1.2.0",
            "_view_name": "LayoutView",
            "align_content": null,
            "align_items": null,
            "align_self": null,
            "border": null,
            "bottom": null,
            "display": null,
            "flex": null,
            "flex_flow": null,
            "grid_area": null,
            "grid_auto_columns": null,
            "grid_auto_flow": null,
            "grid_auto_rows": null,
            "grid_column": null,
            "grid_gap": null,
            "grid_row": null,
            "grid_template_areas": null,
            "grid_template_columns": null,
            "grid_template_rows": null,
            "height": null,
            "justify_content": null,
            "justify_items": null,
            "left": null,
            "margin": null,
            "max_height": null,
            "max_width": null,
            "min_height": null,
            "min_width": null,
            "object_fit": null,
            "object_position": null,
            "order": null,
            "overflow": null,
            "overflow_x": null,
            "overflow_y": null,
            "padding": null,
            "right": null,
            "top": null,
            "visibility": null,
            "width": null
          }
        },
        "0f1460a207d44e46ac53d9f5f4b09200": {
          "model_module": "@jupyter-widgets/controls",
          "model_name": "ProgressStyleModel",
          "model_module_version": "1.5.0",
          "state": {
            "_model_module": "@jupyter-widgets/controls",
            "_model_module_version": "1.5.0",
            "_model_name": "ProgressStyleModel",
            "_view_count": null,
            "_view_module": "@jupyter-widgets/base",
            "_view_module_version": "1.2.0",
            "_view_name": "StyleView",
            "bar_color": null,
            "description_width": ""
          }
        },
        "1da0b2525603495ba32d80f907572044": {
          "model_module": "@jupyter-widgets/base",
          "model_name": "LayoutModel",
          "model_module_version": "1.2.0",
          "state": {
            "_model_module": "@jupyter-widgets/base",
            "_model_module_version": "1.2.0",
            "_model_name": "LayoutModel",
            "_view_count": null,
            "_view_module": "@jupyter-widgets/base",
            "_view_module_version": "1.2.0",
            "_view_name": "LayoutView",
            "align_content": null,
            "align_items": null,
            "align_self": null,
            "border": null,
            "bottom": null,
            "display": null,
            "flex": null,
            "flex_flow": null,
            "grid_area": null,
            "grid_auto_columns": null,
            "grid_auto_flow": null,
            "grid_auto_rows": null,
            "grid_column": null,
            "grid_gap": null,
            "grid_row": null,
            "grid_template_areas": null,
            "grid_template_columns": null,
            "grid_template_rows": null,
            "height": null,
            "justify_content": null,
            "justify_items": null,
            "left": null,
            "margin": null,
            "max_height": null,
            "max_width": null,
            "min_height": null,
            "min_width": null,
            "object_fit": null,
            "object_position": null,
            "order": null,
            "overflow": null,
            "overflow_x": null,
            "overflow_y": null,
            "padding": null,
            "right": null,
            "top": null,
            "visibility": null,
            "width": null
          }
        },
        "6ca7fccca36a405fb41418fec981414a": {
          "model_module": "@jupyter-widgets/controls",
          "model_name": "DescriptionStyleModel",
          "model_module_version": "1.5.0",
          "state": {
            "_model_module": "@jupyter-widgets/controls",
            "_model_module_version": "1.5.0",
            "_model_name": "DescriptionStyleModel",
            "_view_count": null,
            "_view_module": "@jupyter-widgets/base",
            "_view_module_version": "1.2.0",
            "_view_name": "StyleView",
            "description_width": ""
          }
        },
        "ccc7057fcaa34909bce26b1b37f7078f": {
          "model_module": "@jupyter-widgets/controls",
          "model_name": "HBoxModel",
          "model_module_version": "1.5.0",
          "state": {
            "_dom_classes": [],
            "_model_module": "@jupyter-widgets/controls",
            "_model_module_version": "1.5.0",
            "_model_name": "HBoxModel",
            "_view_count": null,
            "_view_module": "@jupyter-widgets/controls",
            "_view_module_version": "1.5.0",
            "_view_name": "HBoxView",
            "box_style": "",
            "children": [
              "IPY_MODEL_e39295cc7e914d459f90f5012aad1083",
              "IPY_MODEL_e4b4c6a93ed748c09360334f83cb0684",
              "IPY_MODEL_69b250ba6faf4416ad0cfad038f905d1"
            ],
            "layout": "IPY_MODEL_d9dee1a2f1bc4a3db92f8bd50250424a"
          }
        },
        "e39295cc7e914d459f90f5012aad1083": {
          "model_module": "@jupyter-widgets/controls",
          "model_name": "HTMLModel",
          "model_module_version": "1.5.0",
          "state": {
            "_dom_classes": [],
            "_model_module": "@jupyter-widgets/controls",
            "_model_module_version": "1.5.0",
            "_model_name": "HTMLModel",
            "_view_count": null,
            "_view_module": "@jupyter-widgets/controls",
            "_view_module_version": "1.5.0",
            "_view_name": "HTMLView",
            "description": "",
            "description_tooltip": null,
            "layout": "IPY_MODEL_d5cd5a65b2f7473f99890a0d16a8f511",
            "placeholder": "​",
            "style": "IPY_MODEL_9d6f79220d78486cbe1a8e55ded4b42d",
            "value": "Generating train split: 100%"
          }
        },
        "e4b4c6a93ed748c09360334f83cb0684": {
          "model_module": "@jupyter-widgets/controls",
          "model_name": "FloatProgressModel",
          "model_module_version": "1.5.0",
          "state": {
            "_dom_classes": [],
            "_model_module": "@jupyter-widgets/controls",
            "_model_module_version": "1.5.0",
            "_model_name": "FloatProgressModel",
            "_view_count": null,
            "_view_module": "@jupyter-widgets/controls",
            "_view_module_version": "1.5.0",
            "_view_name": "ProgressView",
            "bar_style": "success",
            "description": "",
            "description_tooltip": null,
            "layout": "IPY_MODEL_13bb062a34c7418dbfe6195ec30296f6",
            "max": 16130,
            "min": 0,
            "orientation": "horizontal",
            "style": "IPY_MODEL_c2eb9a048a2640c8a53a5124415096bc",
            "value": 16130
          }
        },
        "69b250ba6faf4416ad0cfad038f905d1": {
          "model_module": "@jupyter-widgets/controls",
          "model_name": "HTMLModel",
          "model_module_version": "1.5.0",
          "state": {
            "_dom_classes": [],
            "_model_module": "@jupyter-widgets/controls",
            "_model_module_version": "1.5.0",
            "_model_name": "HTMLModel",
            "_view_count": null,
            "_view_module": "@jupyter-widgets/controls",
            "_view_module_version": "1.5.0",
            "_view_name": "HTMLView",
            "description": "",
            "description_tooltip": null,
            "layout": "IPY_MODEL_e327e622bc6f44a78c870d8056732806",
            "placeholder": "​",
            "style": "IPY_MODEL_0f351a62e424489fa4c2e881499f25fb",
            "value": " 16130/16130 [00:02&lt;00:00, 6657.79 examples/s]"
          }
        },
        "d9dee1a2f1bc4a3db92f8bd50250424a": {
          "model_module": "@jupyter-widgets/base",
          "model_name": "LayoutModel",
          "model_module_version": "1.2.0",
          "state": {
            "_model_module": "@jupyter-widgets/base",
            "_model_module_version": "1.2.0",
            "_model_name": "LayoutModel",
            "_view_count": null,
            "_view_module": "@jupyter-widgets/base",
            "_view_module_version": "1.2.0",
            "_view_name": "LayoutView",
            "align_content": null,
            "align_items": null,
            "align_self": null,
            "border": null,
            "bottom": null,
            "display": null,
            "flex": null,
            "flex_flow": null,
            "grid_area": null,
            "grid_auto_columns": null,
            "grid_auto_flow": null,
            "grid_auto_rows": null,
            "grid_column": null,
            "grid_gap": null,
            "grid_row": null,
            "grid_template_areas": null,
            "grid_template_columns": null,
            "grid_template_rows": null,
            "height": null,
            "justify_content": null,
            "justify_items": null,
            "left": null,
            "margin": null,
            "max_height": null,
            "max_width": null,
            "min_height": null,
            "min_width": null,
            "object_fit": null,
            "object_position": null,
            "order": null,
            "overflow": null,
            "overflow_x": null,
            "overflow_y": null,
            "padding": null,
            "right": null,
            "top": null,
            "visibility": null,
            "width": null
          }
        },
        "d5cd5a65b2f7473f99890a0d16a8f511": {
          "model_module": "@jupyter-widgets/base",
          "model_name": "LayoutModel",
          "model_module_version": "1.2.0",
          "state": {
            "_model_module": "@jupyter-widgets/base",
            "_model_module_version": "1.2.0",
            "_model_name": "LayoutModel",
            "_view_count": null,
            "_view_module": "@jupyter-widgets/base",
            "_view_module_version": "1.2.0",
            "_view_name": "LayoutView",
            "align_content": null,
            "align_items": null,
            "align_self": null,
            "border": null,
            "bottom": null,
            "display": null,
            "flex": null,
            "flex_flow": null,
            "grid_area": null,
            "grid_auto_columns": null,
            "grid_auto_flow": null,
            "grid_auto_rows": null,
            "grid_column": null,
            "grid_gap": null,
            "grid_row": null,
            "grid_template_areas": null,
            "grid_template_columns": null,
            "grid_template_rows": null,
            "height": null,
            "justify_content": null,
            "justify_items": null,
            "left": null,
            "margin": null,
            "max_height": null,
            "max_width": null,
            "min_height": null,
            "min_width": null,
            "object_fit": null,
            "object_position": null,
            "order": null,
            "overflow": null,
            "overflow_x": null,
            "overflow_y": null,
            "padding": null,
            "right": null,
            "top": null,
            "visibility": null,
            "width": null
          }
        },
        "9d6f79220d78486cbe1a8e55ded4b42d": {
          "model_module": "@jupyter-widgets/controls",
          "model_name": "DescriptionStyleModel",
          "model_module_version": "1.5.0",
          "state": {
            "_model_module": "@jupyter-widgets/controls",
            "_model_module_version": "1.5.0",
            "_model_name": "DescriptionStyleModel",
            "_view_count": null,
            "_view_module": "@jupyter-widgets/base",
            "_view_module_version": "1.2.0",
            "_view_name": "StyleView",
            "description_width": ""
          }
        },
        "13bb062a34c7418dbfe6195ec30296f6": {
          "model_module": "@jupyter-widgets/base",
          "model_name": "LayoutModel",
          "model_module_version": "1.2.0",
          "state": {
            "_model_module": "@jupyter-widgets/base",
            "_model_module_version": "1.2.0",
            "_model_name": "LayoutModel",
            "_view_count": null,
            "_view_module": "@jupyter-widgets/base",
            "_view_module_version": "1.2.0",
            "_view_name": "LayoutView",
            "align_content": null,
            "align_items": null,
            "align_self": null,
            "border": null,
            "bottom": null,
            "display": null,
            "flex": null,
            "flex_flow": null,
            "grid_area": null,
            "grid_auto_columns": null,
            "grid_auto_flow": null,
            "grid_auto_rows": null,
            "grid_column": null,
            "grid_gap": null,
            "grid_row": null,
            "grid_template_areas": null,
            "grid_template_columns": null,
            "grid_template_rows": null,
            "height": null,
            "justify_content": null,
            "justify_items": null,
            "left": null,
            "margin": null,
            "max_height": null,
            "max_width": null,
            "min_height": null,
            "min_width": null,
            "object_fit": null,
            "object_position": null,
            "order": null,
            "overflow": null,
            "overflow_x": null,
            "overflow_y": null,
            "padding": null,
            "right": null,
            "top": null,
            "visibility": null,
            "width": null
          }
        },
        "c2eb9a048a2640c8a53a5124415096bc": {
          "model_module": "@jupyter-widgets/controls",
          "model_name": "ProgressStyleModel",
          "model_module_version": "1.5.0",
          "state": {
            "_model_module": "@jupyter-widgets/controls",
            "_model_module_version": "1.5.0",
            "_model_name": "ProgressStyleModel",
            "_view_count": null,
            "_view_module": "@jupyter-widgets/base",
            "_view_module_version": "1.2.0",
            "_view_name": "StyleView",
            "bar_color": null,
            "description_width": ""
          }
        },
        "e327e622bc6f44a78c870d8056732806": {
          "model_module": "@jupyter-widgets/base",
          "model_name": "LayoutModel",
          "model_module_version": "1.2.0",
          "state": {
            "_model_module": "@jupyter-widgets/base",
            "_model_module_version": "1.2.0",
            "_model_name": "LayoutModel",
            "_view_count": null,
            "_view_module": "@jupyter-widgets/base",
            "_view_module_version": "1.2.0",
            "_view_name": "LayoutView",
            "align_content": null,
            "align_items": null,
            "align_self": null,
            "border": null,
            "bottom": null,
            "display": null,
            "flex": null,
            "flex_flow": null,
            "grid_area": null,
            "grid_auto_columns": null,
            "grid_auto_flow": null,
            "grid_auto_rows": null,
            "grid_column": null,
            "grid_gap": null,
            "grid_row": null,
            "grid_template_areas": null,
            "grid_template_columns": null,
            "grid_template_rows": null,
            "height": null,
            "justify_content": null,
            "justify_items": null,
            "left": null,
            "margin": null,
            "max_height": null,
            "max_width": null,
            "min_height": null,
            "min_width": null,
            "object_fit": null,
            "object_position": null,
            "order": null,
            "overflow": null,
            "overflow_x": null,
            "overflow_y": null,
            "padding": null,
            "right": null,
            "top": null,
            "visibility": null,
            "width": null
          }
        },
        "0f351a62e424489fa4c2e881499f25fb": {
          "model_module": "@jupyter-widgets/controls",
          "model_name": "DescriptionStyleModel",
          "model_module_version": "1.5.0",
          "state": {
            "_model_module": "@jupyter-widgets/controls",
            "_model_module_version": "1.5.0",
            "_model_name": "DescriptionStyleModel",
            "_view_count": null,
            "_view_module": "@jupyter-widgets/base",
            "_view_module_version": "1.2.0",
            "_view_name": "StyleView",
            "description_width": ""
          }
        },
        "23f72ad756ff4d429119f4ce2fbe8e91": {
          "model_module": "@jupyter-widgets/controls",
          "model_name": "HBoxModel",
          "model_module_version": "1.5.0",
          "state": {
            "_dom_classes": [],
            "_model_module": "@jupyter-widgets/controls",
            "_model_module_version": "1.5.0",
            "_model_name": "HBoxModel",
            "_view_count": null,
            "_view_module": "@jupyter-widgets/controls",
            "_view_module_version": "1.5.0",
            "_view_name": "HBoxView",
            "box_style": "",
            "children": [
              "IPY_MODEL_a3f2a00b8c00460ea9be6519810955ad",
              "IPY_MODEL_dbd21cbb67da40ab84b0784b52364ec2",
              "IPY_MODEL_168d853d1dc24e55bf005eefdb577466"
            ],
            "layout": "IPY_MODEL_eb9e7649ec004fe4ad3aab9f5c1f51bb"
          }
        },
        "a3f2a00b8c00460ea9be6519810955ad": {
          "model_module": "@jupyter-widgets/controls",
          "model_name": "HTMLModel",
          "model_module_version": "1.5.0",
          "state": {
            "_dom_classes": [],
            "_model_module": "@jupyter-widgets/controls",
            "_model_module_version": "1.5.0",
            "_model_name": "HTMLModel",
            "_view_count": null,
            "_view_module": "@jupyter-widgets/controls",
            "_view_module_version": "1.5.0",
            "_view_name": "HTMLView",
            "description": "",
            "description_tooltip": null,
            "layout": "IPY_MODEL_dbf41abd6285491cabca3e97085867ea",
            "placeholder": "​",
            "style": "IPY_MODEL_172f5b1e5e3c458f9bf5085e0689f860",
            "value": "Map: 100%"
          }
        },
        "dbd21cbb67da40ab84b0784b52364ec2": {
          "model_module": "@jupyter-widgets/controls",
          "model_name": "FloatProgressModel",
          "model_module_version": "1.5.0",
          "state": {
            "_dom_classes": [],
            "_model_module": "@jupyter-widgets/controls",
            "_model_module_version": "1.5.0",
            "_model_name": "FloatProgressModel",
            "_view_count": null,
            "_view_module": "@jupyter-widgets/controls",
            "_view_module_version": "1.5.0",
            "_view_name": "ProgressView",
            "bar_style": "success",
            "description": "",
            "description_tooltip": null,
            "layout": "IPY_MODEL_c87a893557ed4d8493f3a3caf150aca8",
            "max": 16130,
            "min": 0,
            "orientation": "horizontal",
            "style": "IPY_MODEL_633a6cff84d742bd996dcd6bfa3f1cac",
            "value": 16130
          }
        },
        "168d853d1dc24e55bf005eefdb577466": {
          "model_module": "@jupyter-widgets/controls",
          "model_name": "HTMLModel",
          "model_module_version": "1.5.0",
          "state": {
            "_dom_classes": [],
            "_model_module": "@jupyter-widgets/controls",
            "_model_module_version": "1.5.0",
            "_model_name": "HTMLModel",
            "_view_count": null,
            "_view_module": "@jupyter-widgets/controls",
            "_view_module_version": "1.5.0",
            "_view_name": "HTMLView",
            "description": "",
            "description_tooltip": null,
            "layout": "IPY_MODEL_40e3f24937db40b3b4b5791283156a56",
            "placeholder": "​",
            "style": "IPY_MODEL_6f830b29e47d4879a3c43e8fb89a7b5e",
            "value": " 16130/16130 [02:18&lt;00:00, 96.45 examples/s]"
          }
        },
        "eb9e7649ec004fe4ad3aab9f5c1f51bb": {
          "model_module": "@jupyter-widgets/base",
          "model_name": "LayoutModel",
          "model_module_version": "1.2.0",
          "state": {
            "_model_module": "@jupyter-widgets/base",
            "_model_module_version": "1.2.0",
            "_model_name": "LayoutModel",
            "_view_count": null,
            "_view_module": "@jupyter-widgets/base",
            "_view_module_version": "1.2.0",
            "_view_name": "LayoutView",
            "align_content": null,
            "align_items": null,
            "align_self": null,
            "border": null,
            "bottom": null,
            "display": null,
            "flex": null,
            "flex_flow": null,
            "grid_area": null,
            "grid_auto_columns": null,
            "grid_auto_flow": null,
            "grid_auto_rows": null,
            "grid_column": null,
            "grid_gap": null,
            "grid_row": null,
            "grid_template_areas": null,
            "grid_template_columns": null,
            "grid_template_rows": null,
            "height": null,
            "justify_content": null,
            "justify_items": null,
            "left": null,
            "margin": null,
            "max_height": null,
            "max_width": null,
            "min_height": null,
            "min_width": null,
            "object_fit": null,
            "object_position": null,
            "order": null,
            "overflow": null,
            "overflow_x": null,
            "overflow_y": null,
            "padding": null,
            "right": null,
            "top": null,
            "visibility": null,
            "width": null
          }
        },
        "dbf41abd6285491cabca3e97085867ea": {
          "model_module": "@jupyter-widgets/base",
          "model_name": "LayoutModel",
          "model_module_version": "1.2.0",
          "state": {
            "_model_module": "@jupyter-widgets/base",
            "_model_module_version": "1.2.0",
            "_model_name": "LayoutModel",
            "_view_count": null,
            "_view_module": "@jupyter-widgets/base",
            "_view_module_version": "1.2.0",
            "_view_name": "LayoutView",
            "align_content": null,
            "align_items": null,
            "align_self": null,
            "border": null,
            "bottom": null,
            "display": null,
            "flex": null,
            "flex_flow": null,
            "grid_area": null,
            "grid_auto_columns": null,
            "grid_auto_flow": null,
            "grid_auto_rows": null,
            "grid_column": null,
            "grid_gap": null,
            "grid_row": null,
            "grid_template_areas": null,
            "grid_template_columns": null,
            "grid_template_rows": null,
            "height": null,
            "justify_content": null,
            "justify_items": null,
            "left": null,
            "margin": null,
            "max_height": null,
            "max_width": null,
            "min_height": null,
            "min_width": null,
            "object_fit": null,
            "object_position": null,
            "order": null,
            "overflow": null,
            "overflow_x": null,
            "overflow_y": null,
            "padding": null,
            "right": null,
            "top": null,
            "visibility": null,
            "width": null
          }
        },
        "172f5b1e5e3c458f9bf5085e0689f860": {
          "model_module": "@jupyter-widgets/controls",
          "model_name": "DescriptionStyleModel",
          "model_module_version": "1.5.0",
          "state": {
            "_model_module": "@jupyter-widgets/controls",
            "_model_module_version": "1.5.0",
            "_model_name": "DescriptionStyleModel",
            "_view_count": null,
            "_view_module": "@jupyter-widgets/base",
            "_view_module_version": "1.2.0",
            "_view_name": "StyleView",
            "description_width": ""
          }
        },
        "c87a893557ed4d8493f3a3caf150aca8": {
          "model_module": "@jupyter-widgets/base",
          "model_name": "LayoutModel",
          "model_module_version": "1.2.0",
          "state": {
            "_model_module": "@jupyter-widgets/base",
            "_model_module_version": "1.2.0",
            "_model_name": "LayoutModel",
            "_view_count": null,
            "_view_module": "@jupyter-widgets/base",
            "_view_module_version": "1.2.0",
            "_view_name": "LayoutView",
            "align_content": null,
            "align_items": null,
            "align_self": null,
            "border": null,
            "bottom": null,
            "display": null,
            "flex": null,
            "flex_flow": null,
            "grid_area": null,
            "grid_auto_columns": null,
            "grid_auto_flow": null,
            "grid_auto_rows": null,
            "grid_column": null,
            "grid_gap": null,
            "grid_row": null,
            "grid_template_areas": null,
            "grid_template_columns": null,
            "grid_template_rows": null,
            "height": null,
            "justify_content": null,
            "justify_items": null,
            "left": null,
            "margin": null,
            "max_height": null,
            "max_width": null,
            "min_height": null,
            "min_width": null,
            "object_fit": null,
            "object_position": null,
            "order": null,
            "overflow": null,
            "overflow_x": null,
            "overflow_y": null,
            "padding": null,
            "right": null,
            "top": null,
            "visibility": null,
            "width": null
          }
        },
        "633a6cff84d742bd996dcd6bfa3f1cac": {
          "model_module": "@jupyter-widgets/controls",
          "model_name": "ProgressStyleModel",
          "model_module_version": "1.5.0",
          "state": {
            "_model_module": "@jupyter-widgets/controls",
            "_model_module_version": "1.5.0",
            "_model_name": "ProgressStyleModel",
            "_view_count": null,
            "_view_module": "@jupyter-widgets/base",
            "_view_module_version": "1.2.0",
            "_view_name": "StyleView",
            "bar_color": null,
            "description_width": ""
          }
        },
        "40e3f24937db40b3b4b5791283156a56": {
          "model_module": "@jupyter-widgets/base",
          "model_name": "LayoutModel",
          "model_module_version": "1.2.0",
          "state": {
            "_model_module": "@jupyter-widgets/base",
            "_model_module_version": "1.2.0",
            "_model_name": "LayoutModel",
            "_view_count": null,
            "_view_module": "@jupyter-widgets/base",
            "_view_module_version": "1.2.0",
            "_view_name": "LayoutView",
            "align_content": null,
            "align_items": null,
            "align_self": null,
            "border": null,
            "bottom": null,
            "display": null,
            "flex": null,
            "flex_flow": null,
            "grid_area": null,
            "grid_auto_columns": null,
            "grid_auto_flow": null,
            "grid_auto_rows": null,
            "grid_column": null,
            "grid_gap": null,
            "grid_row": null,
            "grid_template_areas": null,
            "grid_template_columns": null,
            "grid_template_rows": null,
            "height": null,
            "justify_content": null,
            "justify_items": null,
            "left": null,
            "margin": null,
            "max_height": null,
            "max_width": null,
            "min_height": null,
            "min_width": null,
            "object_fit": null,
            "object_position": null,
            "order": null,
            "overflow": null,
            "overflow_x": null,
            "overflow_y": null,
            "padding": null,
            "right": null,
            "top": null,
            "visibility": null,
            "width": null
          }
        },
        "6f830b29e47d4879a3c43e8fb89a7b5e": {
          "model_module": "@jupyter-widgets/controls",
          "model_name": "DescriptionStyleModel",
          "model_module_version": "1.5.0",
          "state": {
            "_model_module": "@jupyter-widgets/controls",
            "_model_module_version": "1.5.0",
            "_model_name": "DescriptionStyleModel",
            "_view_count": null,
            "_view_module": "@jupyter-widgets/base",
            "_view_module_version": "1.2.0",
            "_view_name": "StyleView",
            "description_width": ""
          }
        }
      }
    }
  },
  "cells": [
    {
      "cell_type": "markdown",
      "source": [
        "# DCGAN Project.\n",
        "\n",
        "In this project we have trained a DCGAN on the AFHQ dataset to generate synthetic images of animals.\n",
        "\n",
        "**Disclaimer:** Some of the code in this notebook has been generated using ChatGPT"
      ],
      "metadata": {
        "id": "3_sPHbBFlgj8"
      }
    },
    {
      "cell_type": "code",
      "execution_count": null,
      "metadata": {
        "colab": {
          "base_uri": "https://localhost:8080/"
        },
        "id": "pDPId2YYwznm",
        "outputId": "95827c11-1723-48d0-88a8-66b896c1c14e"
      },
      "outputs": [
        {
          "output_type": "stream",
          "name": "stdout",
          "text": [
            "Collecting datasets\n",
            "  Downloading datasets-3.4.0-py3-none-any.whl.metadata (19 kB)\n",
            "Requirement already satisfied: torchvision in /usr/local/lib/python3.11/dist-packages (0.21.0+cu124)\n",
            "Requirement already satisfied: filelock in /usr/local/lib/python3.11/dist-packages (from datasets) (3.17.0)\n",
            "Requirement already satisfied: numpy>=1.17 in /usr/local/lib/python3.11/dist-packages (from datasets) (1.26.4)\n",
            "Requirement already satisfied: pyarrow>=15.0.0 in /usr/local/lib/python3.11/dist-packages (from datasets) (18.1.0)\n",
            "Collecting dill<0.3.9,>=0.3.0 (from datasets)\n",
            "  Downloading dill-0.3.8-py3-none-any.whl.metadata (10 kB)\n",
            "Requirement already satisfied: pandas in /usr/local/lib/python3.11/dist-packages (from datasets) (2.2.2)\n",
            "Requirement already satisfied: requests>=2.32.2 in /usr/local/lib/python3.11/dist-packages (from datasets) (2.32.3)\n",
            "Requirement already satisfied: tqdm>=4.66.3 in /usr/local/lib/python3.11/dist-packages (from datasets) (4.67.1)\n",
            "Collecting xxhash (from datasets)\n",
            "  Downloading xxhash-3.5.0-cp311-cp311-manylinux_2_17_x86_64.manylinux2014_x86_64.whl.metadata (12 kB)\n",
            "Collecting multiprocess<0.70.17 (from datasets)\n",
            "  Downloading multiprocess-0.70.16-py311-none-any.whl.metadata (7.2 kB)\n",
            "Requirement already satisfied: fsspec<=2024.12.0,>=2023.1.0 in /usr/local/lib/python3.11/dist-packages (from fsspec[http]<=2024.12.0,>=2023.1.0->datasets) (2024.10.0)\n",
            "Requirement already satisfied: aiohttp in /usr/local/lib/python3.11/dist-packages (from datasets) (3.11.13)\n",
            "Requirement already satisfied: huggingface-hub>=0.24.0 in /usr/local/lib/python3.11/dist-packages (from datasets) (0.28.1)\n",
            "Requirement already satisfied: packaging in /usr/local/lib/python3.11/dist-packages (from datasets) (24.2)\n",
            "Requirement already satisfied: pyyaml>=5.1 in /usr/local/lib/python3.11/dist-packages (from datasets) (6.0.2)\n",
            "Requirement already satisfied: torch==2.6.0 in /usr/local/lib/python3.11/dist-packages (from torchvision) (2.6.0+cu124)\n",
            "Requirement already satisfied: pillow!=8.3.*,>=5.3.0 in /usr/local/lib/python3.11/dist-packages (from torchvision) (11.1.0)\n",
            "Requirement already satisfied: typing-extensions>=4.10.0 in /usr/local/lib/python3.11/dist-packages (from torch==2.6.0->torchvision) (4.12.2)\n",
            "Requirement already satisfied: networkx in /usr/local/lib/python3.11/dist-packages (from torch==2.6.0->torchvision) (3.4.2)\n",
            "Requirement already satisfied: jinja2 in /usr/local/lib/python3.11/dist-packages (from torch==2.6.0->torchvision) (3.1.6)\n",
            "Collecting nvidia-cuda-nvrtc-cu12==12.4.127 (from torch==2.6.0->torchvision)\n",
            "  Downloading nvidia_cuda_nvrtc_cu12-12.4.127-py3-none-manylinux2014_x86_64.whl.metadata (1.5 kB)\n",
            "Collecting nvidia-cuda-runtime-cu12==12.4.127 (from torch==2.6.0->torchvision)\n",
            "  Downloading nvidia_cuda_runtime_cu12-12.4.127-py3-none-manylinux2014_x86_64.whl.metadata (1.5 kB)\n",
            "Collecting nvidia-cuda-cupti-cu12==12.4.127 (from torch==2.6.0->torchvision)\n",
            "  Downloading nvidia_cuda_cupti_cu12-12.4.127-py3-none-manylinux2014_x86_64.whl.metadata (1.6 kB)\n",
            "Collecting nvidia-cudnn-cu12==9.1.0.70 (from torch==2.6.0->torchvision)\n",
            "  Downloading nvidia_cudnn_cu12-9.1.0.70-py3-none-manylinux2014_x86_64.whl.metadata (1.6 kB)\n",
            "Collecting nvidia-cublas-cu12==12.4.5.8 (from torch==2.6.0->torchvision)\n",
            "  Downloading nvidia_cublas_cu12-12.4.5.8-py3-none-manylinux2014_x86_64.whl.metadata (1.5 kB)\n",
            "Collecting nvidia-cufft-cu12==11.2.1.3 (from torch==2.6.0->torchvision)\n",
            "  Downloading nvidia_cufft_cu12-11.2.1.3-py3-none-manylinux2014_x86_64.whl.metadata (1.5 kB)\n",
            "Collecting nvidia-curand-cu12==10.3.5.147 (from torch==2.6.0->torchvision)\n",
            "  Downloading nvidia_curand_cu12-10.3.5.147-py3-none-manylinux2014_x86_64.whl.metadata (1.5 kB)\n",
            "Collecting nvidia-cusolver-cu12==11.6.1.9 (from torch==2.6.0->torchvision)\n",
            "  Downloading nvidia_cusolver_cu12-11.6.1.9-py3-none-manylinux2014_x86_64.whl.metadata (1.6 kB)\n",
            "Collecting nvidia-cusparse-cu12==12.3.1.170 (from torch==2.6.0->torchvision)\n",
            "  Downloading nvidia_cusparse_cu12-12.3.1.170-py3-none-manylinux2014_x86_64.whl.metadata (1.6 kB)\n",
            "Requirement already satisfied: nvidia-cusparselt-cu12==0.6.2 in /usr/local/lib/python3.11/dist-packages (from torch==2.6.0->torchvision) (0.6.2)\n",
            "Requirement already satisfied: nvidia-nccl-cu12==2.21.5 in /usr/local/lib/python3.11/dist-packages (from torch==2.6.0->torchvision) (2.21.5)\n",
            "Requirement already satisfied: nvidia-nvtx-cu12==12.4.127 in /usr/local/lib/python3.11/dist-packages (from torch==2.6.0->torchvision) (12.4.127)\n",
            "Collecting nvidia-nvjitlink-cu12==12.4.127 (from torch==2.6.0->torchvision)\n",
            "  Downloading nvidia_nvjitlink_cu12-12.4.127-py3-none-manylinux2014_x86_64.whl.metadata (1.5 kB)\n",
            "Requirement already satisfied: triton==3.2.0 in /usr/local/lib/python3.11/dist-packages (from torch==2.6.0->torchvision) (3.2.0)\n",
            "Requirement already satisfied: sympy==1.13.1 in /usr/local/lib/python3.11/dist-packages (from torch==2.6.0->torchvision) (1.13.1)\n",
            "Requirement already satisfied: mpmath<1.4,>=1.1.0 in /usr/local/lib/python3.11/dist-packages (from sympy==1.13.1->torch==2.6.0->torchvision) (1.3.0)\n",
            "Requirement already satisfied: aiohappyeyeballs>=2.3.0 in /usr/local/lib/python3.11/dist-packages (from aiohttp->datasets) (2.6.1)\n",
            "Requirement already satisfied: aiosignal>=1.1.2 in /usr/local/lib/python3.11/dist-packages (from aiohttp->datasets) (1.3.2)\n",
            "Requirement already satisfied: attrs>=17.3.0 in /usr/local/lib/python3.11/dist-packages (from aiohttp->datasets) (25.2.0)\n",
            "Requirement already satisfied: frozenlist>=1.1.1 in /usr/local/lib/python3.11/dist-packages (from aiohttp->datasets) (1.5.0)\n",
            "Requirement already satisfied: multidict<7.0,>=4.5 in /usr/local/lib/python3.11/dist-packages (from aiohttp->datasets) (6.1.0)\n",
            "Requirement already satisfied: propcache>=0.2.0 in /usr/local/lib/python3.11/dist-packages (from aiohttp->datasets) (0.3.0)\n",
            "Requirement already satisfied: yarl<2.0,>=1.17.0 in /usr/local/lib/python3.11/dist-packages (from aiohttp->datasets) (1.18.3)\n",
            "Requirement already satisfied: charset-normalizer<4,>=2 in /usr/local/lib/python3.11/dist-packages (from requests>=2.32.2->datasets) (3.4.1)\n",
            "Requirement already satisfied: idna<4,>=2.5 in /usr/local/lib/python3.11/dist-packages (from requests>=2.32.2->datasets) (3.10)\n",
            "Requirement already satisfied: urllib3<3,>=1.21.1 in /usr/local/lib/python3.11/dist-packages (from requests>=2.32.2->datasets) (2.3.0)\n",
            "Requirement already satisfied: certifi>=2017.4.17 in /usr/local/lib/python3.11/dist-packages (from requests>=2.32.2->datasets) (2025.1.31)\n",
            "Requirement already satisfied: python-dateutil>=2.8.2 in /usr/local/lib/python3.11/dist-packages (from pandas->datasets) (2.8.2)\n",
            "Requirement already satisfied: pytz>=2020.1 in /usr/local/lib/python3.11/dist-packages (from pandas->datasets) (2025.1)\n",
            "Requirement already satisfied: tzdata>=2022.7 in /usr/local/lib/python3.11/dist-packages (from pandas->datasets) (2025.1)\n",
            "Requirement already satisfied: six>=1.5 in /usr/local/lib/python3.11/dist-packages (from python-dateutil>=2.8.2->pandas->datasets) (1.17.0)\n",
            "Requirement already satisfied: MarkupSafe>=2.0 in /usr/local/lib/python3.11/dist-packages (from jinja2->torch==2.6.0->torchvision) (3.0.2)\n",
            "Downloading datasets-3.4.0-py3-none-any.whl (487 kB)\n",
            "\u001b[2K   \u001b[90m━━━━━━━━━━━━━━━━━━━━━━━━━━━━━━━━━━━━━━━━\u001b[0m \u001b[32m487.4/487.4 kB\u001b[0m \u001b[31m8.3 MB/s\u001b[0m eta \u001b[36m0:00:00\u001b[0m\n",
            "\u001b[?25hDownloading nvidia_cublas_cu12-12.4.5.8-py3-none-manylinux2014_x86_64.whl (363.4 MB)\n",
            "\u001b[2K   \u001b[90m━━━━━━━━━━━━━━━━━━━━━━━━━━━━━━━━━━━━━━━━\u001b[0m \u001b[32m363.4/363.4 MB\u001b[0m \u001b[31m2.7 MB/s\u001b[0m eta \u001b[36m0:00:00\u001b[0m\n",
            "\u001b[?25hDownloading nvidia_cuda_cupti_cu12-12.4.127-py3-none-manylinux2014_x86_64.whl (13.8 MB)\n",
            "\u001b[2K   \u001b[90m━━━━━━━━━━━━━━━━━━━━━━━━━━━━━━━━━━━━━━━━\u001b[0m \u001b[32m13.8/13.8 MB\u001b[0m \u001b[31m86.1 MB/s\u001b[0m eta \u001b[36m0:00:00\u001b[0m\n",
            "\u001b[?25hDownloading nvidia_cuda_nvrtc_cu12-12.4.127-py3-none-manylinux2014_x86_64.whl (24.6 MB)\n",
            "\u001b[2K   \u001b[90m━━━━━━━━━━━━━━━━━━━━━━━━━━━━━━━━━━━━━━━━\u001b[0m \u001b[32m24.6/24.6 MB\u001b[0m \u001b[31m85.1 MB/s\u001b[0m eta \u001b[36m0:00:00\u001b[0m\n",
            "\u001b[?25hDownloading nvidia_cuda_runtime_cu12-12.4.127-py3-none-manylinux2014_x86_64.whl (883 kB)\n",
            "\u001b[2K   \u001b[90m━━━━━━━━━━━━━━━━━━━━━━━━━━━━━━━━━━━━━━━━\u001b[0m \u001b[32m883.7/883.7 kB\u001b[0m \u001b[31m50.9 MB/s\u001b[0m eta \u001b[36m0:00:00\u001b[0m\n",
            "\u001b[?25hDownloading nvidia_cudnn_cu12-9.1.0.70-py3-none-manylinux2014_x86_64.whl (664.8 MB)\n",
            "\u001b[2K   \u001b[90m━━━━━━━━━━━━━━━━━━━━━━━━━━━━━━━━━━━━━━━━\u001b[0m \u001b[32m664.8/664.8 MB\u001b[0m \u001b[31m1.6 MB/s\u001b[0m eta \u001b[36m0:00:00\u001b[0m\n",
            "\u001b[?25hDownloading nvidia_cufft_cu12-11.2.1.3-py3-none-manylinux2014_x86_64.whl (211.5 MB)\n",
            "\u001b[2K   \u001b[90m━━━━━━━━━━━━━━━━━━━━━━━━━━━━━━━━━━━━━━━━\u001b[0m \u001b[32m211.5/211.5 MB\u001b[0m \u001b[31m10.6 MB/s\u001b[0m eta \u001b[36m0:00:00\u001b[0m\n",
            "\u001b[?25hDownloading nvidia_curand_cu12-10.3.5.147-py3-none-manylinux2014_x86_64.whl (56.3 MB)\n",
            "\u001b[2K   \u001b[90m━━━━━━━━━━━━━━━━━━━━━━━━━━━━━━━━━━━━━━━━\u001b[0m \u001b[32m56.3/56.3 MB\u001b[0m \u001b[31m38.4 MB/s\u001b[0m eta \u001b[36m0:00:00\u001b[0m\n",
            "\u001b[?25hDownloading nvidia_cusolver_cu12-11.6.1.9-py3-none-manylinux2014_x86_64.whl (127.9 MB)\n",
            "\u001b[2K   \u001b[90m━━━━━━━━━━━━━━━━━━━━━━━━━━━━━━━━━━━━━━━━\u001b[0m \u001b[32m127.9/127.9 MB\u001b[0m \u001b[31m16.7 MB/s\u001b[0m eta \u001b[36m0:00:00\u001b[0m\n",
            "\u001b[?25hDownloading nvidia_cusparse_cu12-12.3.1.170-py3-none-manylinux2014_x86_64.whl (207.5 MB)\n",
            "\u001b[2K   \u001b[90m━━━━━━━━━━━━━━━━━━━━━━━━━━━━━━━━━━━━━━━━\u001b[0m \u001b[32m207.5/207.5 MB\u001b[0m \u001b[31m5.6 MB/s\u001b[0m eta \u001b[36m0:00:00\u001b[0m\n",
            "\u001b[?25hDownloading nvidia_nvjitlink_cu12-12.4.127-py3-none-manylinux2014_x86_64.whl (21.1 MB)\n",
            "\u001b[2K   \u001b[90m━━━━━━━━━━━━━━━━━━━━━━━━━━━━━━━━━━━━━━━━\u001b[0m \u001b[32m21.1/21.1 MB\u001b[0m \u001b[31m93.0 MB/s\u001b[0m eta \u001b[36m0:00:00\u001b[0m\n",
            "\u001b[?25hDownloading dill-0.3.8-py3-none-any.whl (116 kB)\n",
            "\u001b[2K   \u001b[90m━━━━━━━━━━━━━━━━━━━━━━━━━━━━━━━━━━━━━━━━\u001b[0m \u001b[32m116.3/116.3 kB\u001b[0m \u001b[31m13.2 MB/s\u001b[0m eta \u001b[36m0:00:00\u001b[0m\n",
            "\u001b[?25hDownloading multiprocess-0.70.16-py311-none-any.whl (143 kB)\n",
            "\u001b[2K   \u001b[90m━━━━━━━━━━━━━━━━━━━━━━━━━━━━━━━━━━━━━━━━\u001b[0m \u001b[32m143.5/143.5 kB\u001b[0m \u001b[31m16.7 MB/s\u001b[0m eta \u001b[36m0:00:00\u001b[0m\n",
            "\u001b[?25hDownloading xxhash-3.5.0-cp311-cp311-manylinux_2_17_x86_64.manylinux2014_x86_64.whl (194 kB)\n",
            "\u001b[2K   \u001b[90m━━━━━━━━━━━━━━━━━━━━━━━━━━━━━━━━━━━━━━━━\u001b[0m \u001b[32m194.8/194.8 kB\u001b[0m \u001b[31m20.3 MB/s\u001b[0m eta \u001b[36m0:00:00\u001b[0m\n",
            "\u001b[?25hInstalling collected packages: xxhash, nvidia-nvjitlink-cu12, nvidia-curand-cu12, nvidia-cufft-cu12, nvidia-cuda-runtime-cu12, nvidia-cuda-nvrtc-cu12, nvidia-cuda-cupti-cu12, nvidia-cublas-cu12, dill, nvidia-cusparse-cu12, nvidia-cudnn-cu12, multiprocess, nvidia-cusolver-cu12, datasets\n",
            "  Attempting uninstall: nvidia-nvjitlink-cu12\n",
            "    Found existing installation: nvidia-nvjitlink-cu12 12.5.82\n",
            "    Uninstalling nvidia-nvjitlink-cu12-12.5.82:\n",
            "      Successfully uninstalled nvidia-nvjitlink-cu12-12.5.82\n",
            "  Attempting uninstall: nvidia-curand-cu12\n",
            "    Found existing installation: nvidia-curand-cu12 10.3.6.82\n",
            "    Uninstalling nvidia-curand-cu12-10.3.6.82:\n",
            "      Successfully uninstalled nvidia-curand-cu12-10.3.6.82\n",
            "  Attempting uninstall: nvidia-cufft-cu12\n",
            "    Found existing installation: nvidia-cufft-cu12 11.2.3.61\n",
            "    Uninstalling nvidia-cufft-cu12-11.2.3.61:\n",
            "      Successfully uninstalled nvidia-cufft-cu12-11.2.3.61\n",
            "  Attempting uninstall: nvidia-cuda-runtime-cu12\n",
            "    Found existing installation: nvidia-cuda-runtime-cu12 12.5.82\n",
            "    Uninstalling nvidia-cuda-runtime-cu12-12.5.82:\n",
            "      Successfully uninstalled nvidia-cuda-runtime-cu12-12.5.82\n",
            "  Attempting uninstall: nvidia-cuda-nvrtc-cu12\n",
            "    Found existing installation: nvidia-cuda-nvrtc-cu12 12.5.82\n",
            "    Uninstalling nvidia-cuda-nvrtc-cu12-12.5.82:\n",
            "      Successfully uninstalled nvidia-cuda-nvrtc-cu12-12.5.82\n",
            "  Attempting uninstall: nvidia-cuda-cupti-cu12\n",
            "    Found existing installation: nvidia-cuda-cupti-cu12 12.5.82\n",
            "    Uninstalling nvidia-cuda-cupti-cu12-12.5.82:\n",
            "      Successfully uninstalled nvidia-cuda-cupti-cu12-12.5.82\n",
            "  Attempting uninstall: nvidia-cublas-cu12\n",
            "    Found existing installation: nvidia-cublas-cu12 12.5.3.2\n",
            "    Uninstalling nvidia-cublas-cu12-12.5.3.2:\n",
            "      Successfully uninstalled nvidia-cublas-cu12-12.5.3.2\n",
            "  Attempting uninstall: nvidia-cusparse-cu12\n",
            "    Found existing installation: nvidia-cusparse-cu12 12.5.1.3\n",
            "    Uninstalling nvidia-cusparse-cu12-12.5.1.3:\n",
            "      Successfully uninstalled nvidia-cusparse-cu12-12.5.1.3\n",
            "  Attempting uninstall: nvidia-cudnn-cu12\n",
            "    Found existing installation: nvidia-cudnn-cu12 9.3.0.75\n",
            "    Uninstalling nvidia-cudnn-cu12-9.3.0.75:\n",
            "      Successfully uninstalled nvidia-cudnn-cu12-9.3.0.75\n",
            "  Attempting uninstall: nvidia-cusolver-cu12\n",
            "    Found existing installation: nvidia-cusolver-cu12 11.6.3.83\n",
            "    Uninstalling nvidia-cusolver-cu12-11.6.3.83:\n",
            "      Successfully uninstalled nvidia-cusolver-cu12-11.6.3.83\n",
            "Successfully installed datasets-3.4.0 dill-0.3.8 multiprocess-0.70.16 nvidia-cublas-cu12-12.4.5.8 nvidia-cuda-cupti-cu12-12.4.127 nvidia-cuda-nvrtc-cu12-12.4.127 nvidia-cuda-runtime-cu12-12.4.127 nvidia-cudnn-cu12-9.1.0.70 nvidia-cufft-cu12-11.2.1.3 nvidia-curand-cu12-10.3.5.147 nvidia-cusolver-cu12-11.6.1.9 nvidia-cusparse-cu12-12.3.1.170 nvidia-nvjitlink-cu12-12.4.127 xxhash-3.5.0\n"
          ]
        }
      ],
      "source": [
        "!pip install datasets torchvision\n"
      ]
    },
    {
      "cell_type": "code",
      "source": [
        "# importing libraries\n",
        "import torch\n",
        "import torchvision\n",
        "import torchvision.transforms as transforms\n",
        "from torch.utils.data import DataLoader\n",
        "from datasets import load_dataset\n",
        "import matplotlib.pyplot as plt\n"
      ],
      "metadata": {
        "id": "o6iM63vKw8d9"
      },
      "execution_count": null,
      "outputs": []
    },
    {
      "cell_type": "markdown",
      "source": [
        "# Loading Dataset\n",
        "\n",
        "The dataset is imported from hugging face using the datasets library. We have 16,130 images and three labels - cat,dog and wild."
      ],
      "metadata": {
        "id": "ALExsoJJm7_0"
      }
    },
    {
      "cell_type": "code",
      "source": [
        "# Load dataset from Hugging Face\n",
        "dataset = load_dataset(\"huggan/AFHQ\", split=\"train\")"
      ],
      "metadata": {
        "id": "V0hVRsCvaLT8",
        "colab": {
          "base_uri": "https://localhost:8080/",
          "height": 269,
          "referenced_widgets": [
            "da8aa6e6a8de4009a710701a5555b0fd",
            "92e2f0f094b842808a9e0c12478d7fd9",
            "bba9829f4498487ca823c6f744060936",
            "696014fbfa5045c89ae6994129ec265a",
            "523564fa7a6949489df5420a589b2f07",
            "1c9f71e675744492bf1dbe6e7032ae71",
            "12e59ded433c4b6ea45679db67c0f7e8",
            "c58b2b4d93c7482baf3656bb5f0eb5d4",
            "83c5d32b34ef475dabc58a49fcad5046",
            "653a49555da04591abc5b429abaae7e8",
            "9ad45c0cef59401ca076141cbe2e887b",
            "167c90a3705f4e5c9201eb1c8ccb883d",
            "341c0b70bb7c4664818c1b618e7336a3",
            "59f6b43acd114ef0a80c35bcaef3a3e1",
            "4d283ffac4c4437b8efffc3626765ad5",
            "964504ddfea24d74a2692a562c2a548d",
            "a59e59802f7940bcbcb41015db2b07ff",
            "12fe8c09167545d4b454e3fab81a8d54",
            "e76e4a8faa874252827e98766804e211",
            "c2faaefd613445c582700c9f42ce7da0",
            "e6bef0b7448a4f8aa3e7b857a733e12e",
            "f95ab275b3564870b19535598b25e130",
            "09cf2b2ad4a0416f94f9c043e46ee957",
            "d8ae891521f94b3682019b362717739b",
            "f5750e3b6c804647bd557bbe58229e1e",
            "e04251dd10dd42feaf484bc309df9cb6",
            "363e10274a4c406b90179d7b4987054d",
            "08966320f4f84bc4a81100860b6fde5a",
            "d4846c20cdc64b83b7088d886a748ae4",
            "997088ffc4b94df99312ef48f94408fc",
            "0f1460a207d44e46ac53d9f5f4b09200",
            "1da0b2525603495ba32d80f907572044",
            "6ca7fccca36a405fb41418fec981414a",
            "ccc7057fcaa34909bce26b1b37f7078f",
            "e39295cc7e914d459f90f5012aad1083",
            "e4b4c6a93ed748c09360334f83cb0684",
            "69b250ba6faf4416ad0cfad038f905d1",
            "d9dee1a2f1bc4a3db92f8bd50250424a",
            "d5cd5a65b2f7473f99890a0d16a8f511",
            "9d6f79220d78486cbe1a8e55ded4b42d",
            "13bb062a34c7418dbfe6195ec30296f6",
            "c2eb9a048a2640c8a53a5124415096bc",
            "e327e622bc6f44a78c870d8056732806",
            "0f351a62e424489fa4c2e881499f25fb"
          ]
        },
        "outputId": "eb59e7e9-310c-40be-823e-b93e14db286e"
      },
      "execution_count": null,
      "outputs": [
        {
          "output_type": "stream",
          "name": "stderr",
          "text": [
            "/usr/local/lib/python3.11/dist-packages/huggingface_hub/utils/_auth.py:94: UserWarning: \n",
            "The secret `HF_TOKEN` does not exist in your Colab secrets.\n",
            "To authenticate with the Hugging Face Hub, create a token in your settings tab (https://huggingface.co/settings/tokens), set it as secret in your Google Colab and restart your session.\n",
            "You will be able to reuse this secret in all of your notebooks.\n",
            "Please note that authentication is recommended but still optional to access public models or datasets.\n",
            "  warnings.warn(\n"
          ]
        },
        {
          "output_type": "display_data",
          "data": {
            "text/plain": [
              "dataset_infos.json:   0%|          | 0.00/824 [00:00<?, ?B/s]"
            ],
            "application/vnd.jupyter.widget-view+json": {
              "version_major": 2,
              "version_minor": 0,
              "model_id": "da8aa6e6a8de4009a710701a5555b0fd"
            }
          },
          "metadata": {}
        },
        {
          "output_type": "display_data",
          "data": {
            "text/plain": [
              "train-00000-of-00002.parquet:   0%|          | 0.00/358M [00:00<?, ?B/s]"
            ],
            "application/vnd.jupyter.widget-view+json": {
              "version_major": 2,
              "version_minor": 0,
              "model_id": "167c90a3705f4e5c9201eb1c8ccb883d"
            }
          },
          "metadata": {}
        },
        {
          "output_type": "display_data",
          "data": {
            "text/plain": [
              "train-00001-of-00002.parquet:   0%|          | 0.00/371M [00:00<?, ?B/s]"
            ],
            "application/vnd.jupyter.widget-view+json": {
              "version_major": 2,
              "version_minor": 0,
              "model_id": "09cf2b2ad4a0416f94f9c043e46ee957"
            }
          },
          "metadata": {}
        },
        {
          "output_type": "display_data",
          "data": {
            "text/plain": [
              "Generating train split:   0%|          | 0/16130 [00:00<?, ? examples/s]"
            ],
            "application/vnd.jupyter.widget-view+json": {
              "version_major": 2,
              "version_minor": 0,
              "model_id": "ccc7057fcaa34909bce26b1b37f7078f"
            }
          },
          "metadata": {}
        }
      ]
    },
    {
      "cell_type": "code",
      "source": [
        "print(dataset)"
      ],
      "metadata": {
        "colab": {
          "base_uri": "https://localhost:8080/"
        },
        "id": "DBmLmtllaO9n",
        "outputId": "03683945-76a0-4ceb-e4ef-48fd3b577a9e"
      },
      "execution_count": null,
      "outputs": [
        {
          "output_type": "stream",
          "name": "stdout",
          "text": [
            "Dataset({\n",
            "    features: ['image', 'label'],\n",
            "    num_rows: 16130\n",
            "})\n"
          ]
        }
      ]
    },
    {
      "cell_type": "code",
      "source": [
        "print(dataset.features)"
      ],
      "metadata": {
        "colab": {
          "base_uri": "https://localhost:8080/"
        },
        "id": "7EutaMB-aN3C",
        "outputId": "ea226a47-8318-4d1c-deca-812d90ed4823"
      },
      "execution_count": null,
      "outputs": [
        {
          "output_type": "stream",
          "name": "stdout",
          "text": [
            "{'image': Image(mode=None, decode=True, id=None), 'label': ClassLabel(names=['cat', 'dog', 'wild'], id=None)}\n"
          ]
        }
      ]
    },
    {
      "cell_type": "code",
      "source": [
        "print(type(dataset))"
      ],
      "metadata": {
        "colab": {
          "base_uri": "https://localhost:8080/"
        },
        "id": "Se5NTS0paNyt",
        "outputId": "d27423f6-c0e7-4525-de2b-82b1474faa82"
      },
      "execution_count": null,
      "outputs": [
        {
          "output_type": "stream",
          "name": "stdout",
          "text": [
            "<class 'datasets.arrow_dataset.Dataset'>\n"
          ]
        }
      ]
    },
    {
      "cell_type": "code",
      "source": [
        "# Check first item in the dataset\n",
        "print(type(dataset[0]))\n",
        "# Expected Output: <class 'dict'>"
      ],
      "metadata": {
        "colab": {
          "base_uri": "https://localhost:8080/"
        },
        "id": "PyTFZ59DbAGG",
        "outputId": "c7e1a4de-d37a-4b94-e008-2affbcac3e9f"
      },
      "execution_count": null,
      "outputs": [
        {
          "output_type": "stream",
          "name": "stdout",
          "text": [
            "<class 'dict'>\n"
          ]
        }
      ]
    },
    {
      "cell_type": "code",
      "source": [
        "# Check type of image and label\n",
        "print(type(dataset[0]['image']))  # Image type (PIL or array)\n",
        "print(type(dataset[0]['label']))  # Label type (int or str)"
      ],
      "metadata": {
        "colab": {
          "base_uri": "https://localhost:8080/"
        },
        "id": "Jh5flTSfbDoD",
        "outputId": "58f22124-6d29-49ce-8353-51538e867a50"
      },
      "execution_count": null,
      "outputs": [
        {
          "output_type": "stream",
          "name": "stdout",
          "text": [
            "<class 'PIL.JpegImagePlugin.JpegImageFile'>\n",
            "<class 'int'>\n"
          ]
        }
      ]
    },
    {
      "cell_type": "markdown",
      "source": [
        "# Data Preprocessing\n",
        "\n",
        "We perform the following transformation functions on the dataset:\n",
        "\n",
        "1. The images are resized to 128x128 pixels.\n",
        "2. Each channel of the rgb image is normalized."
      ],
      "metadata": {
        "id": "Ir_TEXjbntJs"
      }
    },
    {
      "cell_type": "code",
      "source": [
        "from torchvision import transforms\n",
        "\n",
        "# Define image transformations\n",
        "transform = transforms.Compose([\n",
        "    transforms.Resize((128, 128)),   # Resize images to 128x128\n",
        "    transforms.ToTensor(),         # Convert to tensor (C, H, W)\n",
        "    transforms.Normalize([0.5, 0.5, 0.5], [0.5, 0.5, 0.5])\n",
        "  # Normalize to [-1, 1]\n",
        "])\n",
        "\n",
        "def transform_example(example):\n",
        "    example[\"image\"] = transform(example[\"image\"])  # Apply transformation\n",
        "    return example  # Ensure the structure stays unchanged\n",
        "\n",
        "# Apply the transformation with batched=False\n",
        "dataset = dataset.map(transform_example, batched=False)\n",
        "\n",
        "# Convert dataset to PyTorch format explicitly\n",
        "dataset.set_format(type=\"torch\", columns=[\"image\", \"label\"])\n",
        "\n",
        "\n",
        "\n",
        "\n",
        "# Check transformation\n",
        "print(type(dataset[0]['image']))  # Output: <class 'torch.Tensor'>\n"
      ],
      "metadata": {
        "colab": {
          "base_uri": "https://localhost:8080/",
          "height": 66,
          "referenced_widgets": [
            "23f72ad756ff4d429119f4ce2fbe8e91",
            "a3f2a00b8c00460ea9be6519810955ad",
            "dbd21cbb67da40ab84b0784b52364ec2",
            "168d853d1dc24e55bf005eefdb577466",
            "eb9e7649ec004fe4ad3aab9f5c1f51bb",
            "dbf41abd6285491cabca3e97085867ea",
            "172f5b1e5e3c458f9bf5085e0689f860",
            "c87a893557ed4d8493f3a3caf150aca8",
            "633a6cff84d742bd996dcd6bfa3f1cac",
            "40e3f24937db40b3b4b5791283156a56",
            "6f830b29e47d4879a3c43e8fb89a7b5e"
          ]
        },
        "id": "8StSGJDabO1b",
        "outputId": "c606db50-9e0a-4cba-f63b-aac844e18a70"
      },
      "execution_count": null,
      "outputs": [
        {
          "output_type": "display_data",
          "data": {
            "text/plain": [
              "Map:   0%|          | 0/16130 [00:00<?, ? examples/s]"
            ],
            "application/vnd.jupyter.widget-view+json": {
              "version_major": 2,
              "version_minor": 0,
              "model_id": "23f72ad756ff4d429119f4ce2fbe8e91"
            }
          },
          "metadata": {}
        },
        {
          "output_type": "stream",
          "name": "stdout",
          "text": [
            "<class 'torch.Tensor'>\n"
          ]
        }
      ]
    },
    {
      "cell_type": "code",
      "source": [
        "print(type(dataset))  # Expected: <class 'datasets.arrow_dataset.Dataset'>\n",
        "print(type(dataset[0]))  # Expected: <class 'dict'>\n",
        "print(type(dataset[0]['image']))  # Expected: <class 'torch.Tensor'>\n"
      ],
      "metadata": {
        "colab": {
          "base_uri": "https://localhost:8080/"
        },
        "id": "03QA-GFlbOxJ",
        "outputId": "cba2503e-0ef3-4256-8eb0-8c8bb3f64eaf"
      },
      "execution_count": null,
      "outputs": [
        {
          "output_type": "stream",
          "name": "stdout",
          "text": [
            "<class 'datasets.arrow_dataset.Dataset'>\n",
            "<class 'dict'>\n",
            "<class 'torch.Tensor'>\n"
          ]
        }
      ]
    },
    {
      "cell_type": "code",
      "source": [
        "for i in range(5):  # Check first 5 images\n",
        "    img = dataset[i][\"image\"]\n",
        "    print(f\"Image {i} shape: {img.shape}\")  # Expected: torch.Size([3, 64, 64])\n"
      ],
      "metadata": {
        "colab": {
          "base_uri": "https://localhost:8080/"
        },
        "id": "JRMhpacFiQMj",
        "outputId": "341e00a5-8a50-4ecd-fa27-c60f3e112b3f"
      },
      "execution_count": null,
      "outputs": [
        {
          "output_type": "stream",
          "name": "stdout",
          "text": [
            "Image 0 shape: torch.Size([3, 128, 128])\n",
            "Image 1 shape: torch.Size([3, 128, 128])\n",
            "Image 2 shape: torch.Size([3, 128, 128])\n",
            "Image 3 shape: torch.Size([3, 128, 128])\n",
            "Image 4 shape: torch.Size([3, 128, 128])\n"
          ]
        }
      ]
    },
    {
      "cell_type": "code",
      "source": [
        "from torch.utils.data import DataLoader\n",
        "\n",
        "# Define batch size\n",
        "batch_size = 64  # You can adjust this based on your GPU memory\n",
        "\n",
        "# Create DataLoader\n",
        "dataloader = DataLoader(dataset, batch_size=batch_size, shuffle=True, num_workers=2, pin_memory=True)\n",
        "\n",
        "# Check one batch\n",
        "batch = next(iter(dataloader))\n",
        "print(f\"Batch image shape: {batch['image'].shape}\")  # Expected: torch.Size([32, 3, 64, 64])\n",
        "print(f\"Batch label shape: {batch['label'].shape}\")  # Expected: torch.Size([32])\n"
      ],
      "metadata": {
        "id": "cA4ywkRR1zlv",
        "colab": {
          "base_uri": "https://localhost:8080/"
        },
        "outputId": "9612a11f-a229-41bf-b71e-a0d4b989814f"
      },
      "execution_count": null,
      "outputs": [
        {
          "output_type": "stream",
          "name": "stdout",
          "text": [
            "Batch image shape: torch.Size([64, 3, 128, 128])\n",
            "Batch label shape: torch.Size([64])\n"
          ]
        }
      ]
    },
    {
      "cell_type": "code",
      "source": [
        "# Function to show images\n",
        "def denormalize(img):\n",
        "    mean = torch.tensor([0.5, 0.5, 0.5])\n",
        "    std = torch.tensor([0.5, 0.5, 0.5])\n",
        "    img = img * std[:, None, None] + mean[:, None, None]  # Unnormalize\n",
        "    return img.clamp(0, 1)  # Ensure values are in range [0,1]\n",
        "\n",
        "def show_samples(dataset, num_samples=5):\n",
        "    fig, axes = plt.subplots(1, num_samples, figsize=(12, 4))\n",
        "\n",
        "    for i in range(num_samples):\n",
        "        img = dataset[i][\"image\"]  # Get image tensor\n",
        "        img = img.permute(1, 2, 0).numpy()  # Convert to (H, W, C) format\n",
        "\n",
        "        label = dataset[i][\"label\"]  # Get label\n",
        "\n",
        "        axes[i].imshow(img)\n",
        "        axes[i].set_title(f\"Label: {label}\")\n",
        "        axes[i].axis(\"off\")\n",
        "\n",
        "    plt.show()\n",
        "\n",
        "# Show 5 random images\n",
        "show_samples(dataset, num_samples=5)"
      ],
      "metadata": {
        "colab": {
          "base_uri": "https://localhost:8080/",
          "height": 326
        },
        "id": "M-lyPMyTiu8v",
        "outputId": "12d62bca-c048-4d53-e276-d90a57e0de9b"
      },
      "execution_count": null,
      "outputs": [
        {
          "output_type": "stream",
          "name": "stderr",
          "text": [
            "WARNING:matplotlib.image:Clipping input data to the valid range for imshow with RGB data ([0..1] for floats or [0..255] for integers). Got range [-0.9764706..0.85882354].\n",
            "WARNING:matplotlib.image:Clipping input data to the valid range for imshow with RGB data ([0..1] for floats or [0..255] for integers). Got range [-1.0..0.9372549].\n",
            "WARNING:matplotlib.image:Clipping input data to the valid range for imshow with RGB data ([0..1] for floats or [0..255] for integers). Got range [-0.99215686..0.92941177].\n",
            "WARNING:matplotlib.image:Clipping input data to the valid range for imshow with RGB data ([0..1] for floats or [0..255] for integers). Got range [-0.9843137..1.0].\n",
            "WARNING:matplotlib.image:Clipping input data to the valid range for imshow with RGB data ([0..1] for floats or [0..255] for integers). Got range [-0.96862745..0.9372549].\n"
          ]
        },
        {
          "output_type": "display_data",
          "data": {
            "text/plain": [
              "<Figure size 1200x400 with 5 Axes>"
            ],
            "image/png": "[encoded data removed]"
          },
          "metadata": {}
        }
      ]
    },
    {
      "cell_type": "markdown",
      "source": [
        "Our GAN consists of two components:\n",
        "1. Generator\n",
        "2. Discriminator\n",
        "\n",
        "For the generator architecture,our input is a later vector of 100 dimensions.Then we have transposed convolutional layers with batch normalization. The activation function is a ReLU function.\n",
        "\n"
      ],
      "metadata": {
        "id": "gakvcjJppG-6"
      }
    },
    {
      "cell_type": "code",
      "source": [
        "import torch.nn as nn\n",
        "\n",
        "class Generator(nn.Module):\n",
        "    def __init__(self, latent_dim=100, feature_maps=64, channels=3):\n",
        "        super(Generator, self).__init__()\n",
        "        self.model = nn.Sequential(\n",
        "            nn.ConvTranspose2d(latent_dim, feature_maps * 8, 4, 1, 0, bias=False),\n",
        "            nn.BatchNorm2d(feature_maps * 8),\n",
        "            nn.ReLU(True),\n",
        "\n",
        "            nn.ConvTranspose2d(feature_maps * 8, feature_maps * 4, 4, 2, 1, bias=False),\n",
        "            nn.BatchNorm2d(feature_maps * 4),\n",
        "            nn.ReLU(True),\n",
        "\n",
        "            nn.ConvTranspose2d(feature_maps * 4, feature_maps * 2, 4, 2, 1, bias=False),\n",
        "            nn.BatchNorm2d(feature_maps * 2),\n",
        "            nn.ReLU(True),\n",
        "\n",
        "            nn.ConvTranspose2d(feature_maps * 2, feature_maps, 4, 2, 1, bias=False),\n",
        "            nn.BatchNorm2d(feature_maps),\n",
        "            nn.ReLU(True),\n",
        "\n",
        "            nn.ConvTranspose2d(feature_maps, feature_maps // 2, 4, 2, 1, bias=False),  # Extra layer for 128x128\n",
        "            nn.BatchNorm2d(feature_maps // 2),\n",
        "            nn.ReLU(True),\n",
        "\n",
        "            nn.ConvTranspose2d(feature_maps // 2, channels, 4, 2, 1, bias=False),\n",
        "\n",
        "        )\n",
        "\n",
        "    def forward(self, z):\n",
        "        return torch.tanh(self.model(z))\n"
      ],
      "metadata": {
        "id": "Lmqn-l-Mi-8K"
      },
      "execution_count": null,
      "outputs": []
    },
    {
      "cell_type": "markdown",
      "source": [
        "The discriminator consists of spectrally normalized convolutional layers,with batch normalization and leaky ReLU activation function."
      ],
      "metadata": {
        "id": "ss82Gbubrofy"
      }
    },
    {
      "cell_type": "code",
      "source": [
        "from torch.nn.utils import spectral_norm\n",
        "\n",
        "class Discriminator(nn.Module):\n",
        "    def __init__(self, feature_maps=64, channels=3):\n",
        "        super(Discriminator, self).__init__()\n",
        "        self.model = nn.Sequential(\n",
        "            spectral_norm(nn.Conv2d(channels, feature_maps // 2, 4, 2, 1, bias=False)),\n",
        "            nn.LeakyReLU(0.2, inplace=True),\n",
        "\n",
        "            spectral_norm(nn.Conv2d(feature_maps // 2, feature_maps, 4, 2, 1, bias=False)),\n",
        "            nn.BatchNorm2d(feature_maps),\n",
        "            nn.LeakyReLU(0.2, inplace=True),\n",
        "\n",
        "            spectral_norm(nn.Conv2d(feature_maps, feature_maps * 2, 4, 2, 1, bias=False)),\n",
        "            nn.BatchNorm2d(feature_maps * 2),\n",
        "            nn.LeakyReLU(0.2, inplace=True),\n",
        "\n",
        "            spectral_norm(nn.Conv2d(feature_maps * 2, feature_maps * 4, 4, 2, 1, bias=False)),\n",
        "            nn.BatchNorm2d(feature_maps * 4),\n",
        "            nn.LeakyReLU(0.2, inplace=True),\n",
        "\n",
        "            spectral_norm(nn.Conv2d(feature_maps * 4, feature_maps * 8, 4, 2, 1, bias=False)),\n",
        "            nn.BatchNorm2d(feature_maps * 8),\n",
        "            nn.LeakyReLU(0.2, inplace=True),\n",
        "\n",
        "            spectral_norm(nn.Conv2d(feature_maps * 8, 1, 4, 1, 0, bias=False)),\n",
        "\n",
        "        )\n",
        "\n",
        "    def forward(self, img):\n",
        "        return self.model(img).view(-1, 1)\n"
      ],
      "metadata": {
        "id": "UDnJFkxFj8xk"
      },
      "execution_count": null,
      "outputs": []
    },
    {
      "cell_type": "markdown",
      "source": [
        "Our loss function is BCE with logits loss.Both the generator and discriminator have a learning rate of 0.0002. The Adam optimizer is used."
      ],
      "metadata": {
        "id": "R8VOg5SpsZo_"
      }
    },
    {
      "cell_type": "code",
      "source": [
        "import torch.optim as optim\n",
        "\n",
        "# Device\n",
        "device = torch.device(\"cuda\" if torch.cuda.is_available() else \"cpu\")\n",
        "\n",
        "# Initialize Generator and Discriminator\n",
        "latent_dim = 100\n",
        "generator = Generator(latent_dim=latent_dim).to(device)\n",
        "discriminator = Discriminator().to(device)\n",
        "\n",
        "# Loss function\n",
        "criterion = nn.BCEWithLogitsLoss()\n",
        "\n",
        "# Optimizers\n",
        "\n",
        "\n",
        "optimizer_D = torch.optim.Adam(discriminator.parameters(), lr=0.0002, betas=(0.5, 0.999))\n",
        "optimizer_G = torch.optim.Adam(generator.parameters(), lr=0.0002, betas=(0.5, 0.999))\n",
        "\n"
      ],
      "metadata": {
        "id": "cSemwDMTkAIj"
      },
      "execution_count": null,
      "outputs": []
    },
    {
      "cell_type": "markdown",
      "source": [
        "# Training Process\n",
        "The model is trained for 65 epochs and images are generated after every 5 epochs to compare performance."
      ],
      "metadata": {
        "id": "MJzdRg4hsqPH"
      }
    },
    {
      "cell_type": "code",
      "source": [
        "import torchvision.utils as vutils\n",
        "import os\n",
        "os.makedirs(\"models\", exist_ok=True)\n",
        "\n",
        "epochs = 65\n",
        "fixed_noise = torch.randn(16, latent_dim, 1, 1, device=device)  # Fixed noise for visualization\n",
        "\n",
        "for epoch in range(epochs):\n",
        "    for i, batch in enumerate(dataloader):\n",
        "        real_images = batch[\"image\"].to(device)\n",
        "        batch_size = real_images.size(0)\n",
        "\n",
        "        # Create labels\n",
        "        real_labels = torch.full((batch_size, 1), 0.9, device=device)  # Instead of 1\n",
        "        fake_labels = torch.full((batch_size, 1), 0.1, device=device)  # Instead of 0\n",
        "\n",
        "\n",
        "\n",
        "\n",
        "        ## **Train Discriminator**\n",
        "        optimizer_D.zero_grad()\n",
        "        output_real = discriminator(real_images)\n",
        "        loss_real = criterion(output_real, real_labels)\n",
        "\n",
        "        noise = torch.randn(batch_size, latent_dim, 1, 1, device=device)\n",
        "        fake_images = generator(noise)\n",
        "        output_fake = discriminator(fake_images.detach())\n",
        "        loss_fake = criterion(output_fake, fake_labels)\n",
        "\n",
        "        loss_D = loss_real + loss_fake\n",
        "        loss_D.backward()\n",
        "        optimizer_D.step()\n",
        "\n",
        "        ## **Train Generator**\n",
        "\n",
        "        optimizer_G.zero_grad()\n",
        "        noise = torch.randn(batch_size, latent_dim, 1, 1, device=device)  # Fresh noise for Generator\n",
        "        fake_images = generator(noise)\n",
        "        output = discriminator(fake_images)\n",
        "        loss_G = -torch.mean(discriminator(fake_images))  # Maximizing generator scores\n",
        "        loss_G.backward()\n",
        "        optimizer_G.step()\n",
        "\n",
        "\n",
        "\n",
        "        # Print progress\n",
        "        if i % 100 == 0:\n",
        "            print(f\"Epoch [{epoch}/{epochs}] | Step [{i}/{len(dataloader)}] | Loss D: {loss_D.item():.4f} | Loss G: {loss_G.item():.4f}\")\n",
        "\n",
        "    # Save sample images every few epochs\n",
        "    if epoch % 5 == 0:\n",
        "        with torch.no_grad():\n",
        "            fake_samples = generator(fixed_noise).cpu()\n",
        "            vutils.save_image(fake_samples, f\"generated_epoch_{epoch}.png\", normalize=True)\n",
        "\n",
        "# Save model weights\n",
        "torch.save(generator.state_dict(), \"models/generator.pth\")\n",
        "torch.save(discriminator.state_dict(), \"models/discriminator.pth\")\n",
        "\n",
        "print(\"Training complete! Model weights and images saved.\")\n"
      ],
      "metadata": {
        "colab": {
          "base_uri": "https://localhost:8080/"
        },
        "id": "7JJzxPONkK-m",
        "outputId": "ba2d4cb1-f3a5-4971-ce60-07accef88c39",
        "collapsed": true
      },
      "execution_count": null,
      "outputs": [
        {
          "output_type": "stream",
          "name": "stdout",
          "text": [
            "Epoch [0/65] | Step [0/253] | Loss D: 1.3268 | Loss G: 3.5512\n",
            "Epoch [0/65] | Step [100/253] | Loss D: 0.9493 | Loss G: 4.1493\n",
            "Epoch [0/65] | Step [200/253] | Loss D: 0.8120 | Loss G: 1.8182\n",
            "Epoch [1/65] | Step [0/253] | Loss D: 0.9904 | Loss G: 1.6812\n",
            "Epoch [1/65] | Step [100/253] | Loss D: 0.7099 | Loss G: 3.2438\n",
            "Epoch [1/65] | Step [200/253] | Loss D: 0.9414 | Loss G: 1.6794\n",
            "Epoch [2/65] | Step [0/253] | Loss D: 1.1034 | Loss G: 2.0391\n",
            "Epoch [2/65] | Step [100/253] | Loss D: 0.8563 | Loss G: 1.4589\n",
            "Epoch [2/65] | Step [200/253] | Loss D: 1.0747 | Loss G: 4.1092\n",
            "Epoch [3/65] | Step [0/253] | Loss D: 1.6782 | Loss G: 4.4292\n",
            "Epoch [3/65] | Step [100/253] | Loss D: 1.0059 | Loss G: 2.0734\n",
            "Epoch [3/65] | Step [200/253] | Loss D: 1.0881 | Loss G: 2.4771\n",
            "Epoch [4/65] | Step [0/253] | Loss D: 1.2092 | Loss G: 2.0835\n",
            "Epoch [4/65] | Step [100/253] | Loss D: 1.0851 | Loss G: 1.6972\n",
            "Epoch [4/65] | Step [200/253] | Loss D: 0.9926 | Loss G: 2.0394\n",
            "Epoch [5/65] | Step [0/253] | Loss D: 1.5759 | Loss G: 4.3435\n",
            "Epoch [5/65] | Step [100/253] | Loss D: 0.9834 | Loss G: 1.6352\n",
            "Epoch [5/65] | Step [200/253] | Loss D: 0.8926 | Loss G: 2.7126\n",
            "Epoch [6/65] | Step [0/253] | Loss D: 1.7855 | Loss G: 2.0917\n",
            "Epoch [6/65] | Step [100/253] | Loss D: 0.9407 | Loss G: 2.6426\n",
            "Epoch [6/65] | Step [200/253] | Loss D: 1.1522 | Loss G: 1.7528\n",
            "Epoch [7/65] | Step [0/253] | Loss D: 2.1737 | Loss G: 3.7346\n",
            "Epoch [7/65] | Step [100/253] | Loss D: 1.4757 | Loss G: 3.4871\n",
            "Epoch [7/65] | Step [200/253] | Loss D: 0.8504 | Loss G: 2.1636\n",
            "Epoch [8/65] | Step [0/253] | Loss D: 2.8429 | Loss G: 3.7562\n",
            "Epoch [8/65] | Step [100/253] | Loss D: 0.8510 | Loss G: 2.2888\n",
            "Epoch [8/65] | Step [200/253] | Loss D: 0.9195 | Loss G: 1.5747\n",
            "Epoch [9/65] | Step [0/253] | Loss D: 2.6316 | Loss G: 3.8697\n",
            "Epoch [9/65] | Step [100/253] | Loss D: 1.1706 | Loss G: 0.7207\n",
            "Epoch [9/65] | Step [200/253] | Loss D: 1.2534 | Loss G: 3.4202\n",
            "Epoch [10/65] | Step [0/253] | Loss D: 2.7864 | Loss G: 3.4656\n",
            "Epoch [10/65] | Step [100/253] | Loss D: 1.0317 | Loss G: 3.0264\n",
            "Epoch [10/65] | Step [200/253] | Loss D: 0.8082 | Loss G: 1.5926\n",
            "Epoch [11/65] | Step [0/253] | Loss D: 2.8629 | Loss G: 3.3897\n",
            "Epoch [11/65] | Step [100/253] | Loss D: 0.8634 | Loss G: 2.3654\n",
            "Epoch [11/65] | Step [200/253] | Loss D: 0.8671 | Loss G: 1.6573\n",
            "Epoch [12/65] | Step [0/253] | Loss D: 1.2250 | Loss G: 3.5483\n",
            "Epoch [12/65] | Step [100/253] | Loss D: 0.9516 | Loss G: 1.5880\n",
            "Epoch [12/65] | Step [200/253] | Loss D: 0.9334 | Loss G: 1.8481\n",
            "Epoch [13/65] | Step [0/253] | Loss D: 0.9071 | Loss G: 2.7026\n",
            "Epoch [13/65] | Step [100/253] | Loss D: 1.0241 | Loss G: 1.1335\n",
            "Epoch [13/65] | Step [200/253] | Loss D: 0.9398 | Loss G: 2.0981\n",
            "Epoch [14/65] | Step [0/253] | Loss D: 1.0315 | Loss G: 3.1840\n",
            "Epoch [14/65] | Step [100/253] | Loss D: 0.9227 | Loss G: 1.7080\n",
            "Epoch [14/65] | Step [200/253] | Loss D: 0.8196 | Loss G: 1.9903\n",
            "Epoch [15/65] | Step [0/253] | Loss D: 2.0033 | Loss G: 5.8707\n",
            "Epoch [15/65] | Step [100/253] | Loss D: 1.2117 | Loss G: 3.4741\n",
            "Epoch [15/65] | Step [200/253] | Loss D: 0.8345 | Loss G: 2.7755\n",
            "Epoch [16/65] | Step [0/253] | Loss D: 3.0510 | Loss G: 3.1546\n",
            "Epoch [16/65] | Step [100/253] | Loss D: 0.8930 | Loss G: 1.6711\n",
            "Epoch [16/65] | Step [200/253] | Loss D: 0.8115 | Loss G: 1.5130\n",
            "Epoch [17/65] | Step [0/253] | Loss D: 1.1072 | Loss G: 2.8780\n",
            "Epoch [17/65] | Step [100/253] | Loss D: 0.9340 | Loss G: 2.3539\n",
            "Epoch [17/65] | Step [200/253] | Loss D: 0.8681 | Loss G: 1.1278\n",
            "Epoch [18/65] | Step [0/253] | Loss D: 0.9298 | Loss G: 0.4404\n",
            "Epoch [18/65] | Step [100/253] | Loss D: 0.8701 | Loss G: 1.1515\n",
            "Epoch [18/65] | Step [200/253] | Loss D: 0.8819 | Loss G: 0.6787\n",
            "Epoch [19/65] | Step [0/253] | Loss D: 1.3508 | Loss G: 3.0632\n",
            "Epoch [19/65] | Step [100/253] | Loss D: 0.8713 | Loss G: 2.1745\n",
            "Epoch [19/65] | Step [200/253] | Loss D: 0.8466 | Loss G: 1.7971\n",
            "Epoch [20/65] | Step [0/253] | Loss D: 2.3343 | Loss G: 4.7540\n",
            "Epoch [20/65] | Step [100/253] | Loss D: 0.8511 | Loss G: 1.8008\n",
            "Epoch [20/65] | Step [200/253] | Loss D: 1.0716 | Loss G: 2.5394\n",
            "Epoch [21/65] | Step [0/253] | Loss D: 1.8075 | Loss G: 4.4444\n",
            "Epoch [21/65] | Step [100/253] | Loss D: 1.3769 | Loss G: 0.5524\n",
            "Epoch [21/65] | Step [200/253] | Loss D: 0.9584 | Loss G: 2.3399\n",
            "Epoch [22/65] | Step [0/253] | Loss D: 3.5890 | Loss G: 3.1393\n",
            "Epoch [22/65] | Step [100/253] | Loss D: 0.8078 | Loss G: 3.0526\n",
            "Epoch [22/65] | Step [200/253] | Loss D: 0.9343 | Loss G: 1.0645\n",
            "Epoch [23/65] | Step [0/253] | Loss D: 0.9029 | Loss G: 0.5607\n",
            "Epoch [23/65] | Step [100/253] | Loss D: 0.9351 | Loss G: 1.9509\n",
            "Epoch [23/65] | Step [200/253] | Loss D: 0.8445 | Loss G: 2.6727\n",
            "Epoch [24/65] | Step [0/253] | Loss D: 0.7747 | Loss G: 2.1216\n",
            "Epoch [24/65] | Step [100/253] | Loss D: 0.8245 | Loss G: 2.4347\n",
            "Epoch [24/65] | Step [200/253] | Loss D: 0.8167 | Loss G: 1.6960\n",
            "Epoch [25/65] | Step [0/253] | Loss D: 0.9543 | Loss G: 3.3161\n",
            "Epoch [25/65] | Step [100/253] | Loss D: 0.8589 | Loss G: 1.2665\n",
            "Epoch [25/65] | Step [200/253] | Loss D: 0.8230 | Loss G: 1.6000\n",
            "Epoch [26/65] | Step [0/253] | Loss D: 2.5383 | Loss G: 5.0970\n",
            "Epoch [26/65] | Step [100/253] | Loss D: 0.7877 | Loss G: 2.6829\n",
            "Epoch [26/65] | Step [200/253] | Loss D: 0.8389 | Loss G: 0.8434\n",
            "Epoch [27/65] | Step [0/253] | Loss D: 0.8385 | Loss G: 1.5881\n",
            "Epoch [27/65] | Step [100/253] | Loss D: 0.8148 | Loss G: 2.4281\n",
            "Epoch [27/65] | Step [200/253] | Loss D: 1.0204 | Loss G: 2.9662\n",
            "Epoch [28/65] | Step [0/253] | Loss D: 1.3874 | Loss G: 3.3518\n",
            "Epoch [28/65] | Step [100/253] | Loss D: 0.8270 | Loss G: 2.1074\n",
            "Epoch [28/65] | Step [200/253] | Loss D: 0.7836 | Loss G: 2.2076\n",
            "Epoch [29/65] | Step [0/253] | Loss D: 0.7538 | Loss G: 2.3851\n",
            "Epoch [29/65] | Step [100/253] | Loss D: 0.7940 | Loss G: 0.7367\n",
            "Epoch [29/65] | Step [200/253] | Loss D: 0.7317 | Loss G: 1.6430\n",
            "Epoch [30/65] | Step [0/253] | Loss D: 1.1857 | Loss G: 4.4041\n",
            "Epoch [30/65] | Step [100/253] | Loss D: 0.7346 | Loss G: 2.2830\n",
            "Epoch [30/65] | Step [200/253] | Loss D: 0.7519 | Loss G: 2.3506\n",
            "Epoch [31/65] | Step [0/253] | Loss D: 1.0789 | Loss G: 3.6913\n",
            "Epoch [31/65] | Step [100/253] | Loss D: 0.7588 | Loss G: 2.5168\n",
            "Epoch [31/65] | Step [200/253] | Loss D: 0.8260 | Loss G: 2.6619\n",
            "Epoch [32/65] | Step [0/253] | Loss D: 1.2707 | Loss G: 4.6602\n",
            "Epoch [32/65] | Step [100/253] | Loss D: 0.8812 | Loss G: 1.4860\n",
            "Epoch [32/65] | Step [200/253] | Loss D: 0.7202 | Loss G: 2.1293\n",
            "Epoch [33/65] | Step [0/253] | Loss D: 1.4038 | Loss G: 3.6014\n",
            "Epoch [33/65] | Step [100/253] | Loss D: 0.7469 | Loss G: 2.0753\n",
            "Epoch [33/65] | Step [200/253] | Loss D: 0.8318 | Loss G: 2.4023\n",
            "Epoch [34/65] | Step [0/253] | Loss D: 2.0142 | Loss G: 3.8535\n",
            "Epoch [34/65] | Step [100/253] | Loss D: 0.7765 | Loss G: 1.7653\n",
            "Epoch [34/65] | Step [200/253] | Loss D: 0.7384 | Loss G: 1.5292\n",
            "Epoch [35/65] | Step [0/253] | Loss D: 1.3582 | Loss G: 4.7246\n",
            "Epoch [35/65] | Step [100/253] | Loss D: 0.7648 | Loss G: 1.3113\n",
            "Epoch [35/65] | Step [200/253] | Loss D: 0.7377 | Loss G: 1.9888\n",
            "Epoch [36/65] | Step [0/253] | Loss D: 1.0637 | Loss G: 3.0813\n",
            "Epoch [36/65] | Step [100/253] | Loss D: 0.7519 | Loss G: 2.1371\n",
            "Epoch [36/65] | Step [200/253] | Loss D: 0.7370 | Loss G: 1.8854\n",
            "Epoch [37/65] | Step [0/253] | Loss D: 1.0434 | Loss G: 3.4620\n",
            "Epoch [37/65] | Step [100/253] | Loss D: 0.7131 | Loss G: 2.3270\n",
            "Epoch [37/65] | Step [200/253] | Loss D: 0.7400 | Loss G: 2.0344\n",
            "Epoch [38/65] | Step [0/253] | Loss D: 0.8619 | Loss G: 1.6863\n",
            "Epoch [38/65] | Step [100/253] | Loss D: 0.7619 | Loss G: 2.3244\n",
            "Epoch [38/65] | Step [200/253] | Loss D: 0.7735 | Loss G: 2.3626\n",
            "Epoch [39/65] | Step [0/253] | Loss D: 0.8965 | Loss G: 2.6840\n",
            "Epoch [39/65] | Step [100/253] | Loss D: 0.9745 | Loss G: 2.8562\n",
            "Epoch [39/65] | Step [200/253] | Loss D: 0.6868 | Loss G: 2.2875\n",
            "Epoch [40/65] | Step [0/253] | Loss D: 1.1247 | Loss G: 2.8427\n",
            "Epoch [40/65] | Step [100/253] | Loss D: 0.6961 | Loss G: 2.3365\n",
            "Epoch [40/65] | Step [200/253] | Loss D: 0.7542 | Loss G: 1.7735\n",
            "Epoch [41/65] | Step [0/253] | Loss D: 0.8648 | Loss G: 2.9358\n",
            "Epoch [41/65] | Step [100/253] | Loss D: 0.7177 | Loss G: 2.8153\n",
            "Epoch [41/65] | Step [200/253] | Loss D: 0.7424 | Loss G: 2.1141\n",
            "Epoch [42/65] | Step [0/253] | Loss D: 2.2622 | Loss G: 4.6835\n",
            "Epoch [42/65] | Step [100/253] | Loss D: 0.7251 | Loss G: 1.4838\n",
            "Epoch [42/65] | Step [200/253] | Loss D: 0.7394 | Loss G: 1.5438\n",
            "Epoch [43/65] | Step [0/253] | Loss D: 1.8755 | Loss G: 3.6128\n",
            "Epoch [43/65] | Step [100/253] | Loss D: 0.8130 | Loss G: 2.8086\n",
            "Epoch [43/65] | Step [200/253] | Loss D: 0.7208 | Loss G: 1.6763\n",
            "Epoch [44/65] | Step [0/253] | Loss D: 0.7773 | Loss G: 0.9832\n",
            "Epoch [44/65] | Step [100/253] | Loss D: 1.3245 | Loss G: 5.0629\n",
            "Epoch [44/65] | Step [200/253] | Loss D: 0.6720 | Loss G: 2.7062\n",
            "Epoch [45/65] | Step [0/253] | Loss D: 3.0326 | Loss G: 4.8751\n",
            "Epoch [45/65] | Step [100/253] | Loss D: 0.7301 | Loss G: 1.9660\n",
            "Epoch [45/65] | Step [200/253] | Loss D: 0.7281 | Loss G: 1.5759\n",
            "Epoch [46/65] | Step [0/253] | Loss D: 0.9843 | Loss G: 3.3509\n",
            "Epoch [46/65] | Step [100/253] | Loss D: 0.7094 | Loss G: 1.3399\n",
            "Epoch [46/65] | Step [200/253] | Loss D: 0.7283 | Loss G: 1.6967\n",
            "Epoch [47/65] | Step [0/253] | Loss D: 0.8932 | Loss G: 2.8035\n",
            "Epoch [47/65] | Step [100/253] | Loss D: 1.0165 | Loss G: 2.0719\n",
            "Epoch [47/65] | Step [200/253] | Loss D: 0.7133 | Loss G: 1.7969\n",
            "Epoch [48/65] | Step [0/253] | Loss D: 1.3047 | Loss G: 3.4248\n",
            "Epoch [48/65] | Step [100/253] | Loss D: 0.6950 | Loss G: 0.8567\n",
            "Epoch [48/65] | Step [200/253] | Loss D: 0.7423 | Loss G: 1.5630\n",
            "Epoch [49/65] | Step [0/253] | Loss D: 2.1533 | Loss G: 4.1190\n",
            "Epoch [49/65] | Step [100/253] | Loss D: 0.7389 | Loss G: 1.7873\n",
            "Epoch [49/65] | Step [200/253] | Loss D: 0.7521 | Loss G: 1.7617\n",
            "Epoch [50/65] | Step [0/253] | Loss D: 3.0895 | Loss G: 4.5442\n",
            "Epoch [50/65] | Step [100/253] | Loss D: 0.8257 | Loss G: 1.6735\n",
            "Epoch [50/65] | Step [200/253] | Loss D: 0.7219 | Loss G: 2.3536\n",
            "Epoch [51/65] | Step [0/253] | Loss D: 1.7849 | Loss G: 4.5210\n",
            "Epoch [51/65] | Step [100/253] | Loss D: 0.7048 | Loss G: 1.5559\n",
            "Epoch [51/65] | Step [200/253] | Loss D: 0.7573 | Loss G: 1.7960\n",
            "Epoch [52/65] | Step [0/253] | Loss D: 0.7583 | Loss G: 2.8515\n",
            "Epoch [52/65] | Step [100/253] | Loss D: 0.7858 | Loss G: 0.8997\n",
            "Epoch [52/65] | Step [200/253] | Loss D: 0.6900 | Loss G: 2.6709\n",
            "Epoch [53/65] | Step [0/253] | Loss D: 1.0349 | Loss G: 3.4626\n",
            "Epoch [53/65] | Step [100/253] | Loss D: 0.7009 | Loss G: 2.0230\n",
            "Epoch [53/65] | Step [200/253] | Loss D: 0.7585 | Loss G: 1.2855\n",
            "Epoch [54/65] | Step [0/253] | Loss D: 0.7530 | Loss G: 2.1254\n",
            "Epoch [54/65] | Step [100/253] | Loss D: 0.7201 | Loss G: 1.7472\n",
            "Epoch [54/65] | Step [200/253] | Loss D: 0.7004 | Loss G: 1.8227\n",
            "Epoch [55/65] | Step [0/253] | Loss D: 0.6959 | Loss G: 2.5630\n",
            "Epoch [55/65] | Step [100/253] | Loss D: 0.7292 | Loss G: 2.7608\n",
            "Epoch [55/65] | Step [200/253] | Loss D: 0.9357 | Loss G: 1.3833\n",
            "Epoch [56/65] | Step [0/253] | Loss D: 1.0198 | Loss G: 2.6941\n",
            "Epoch [56/65] | Step [100/253] | Loss D: 0.7225 | Loss G: 2.0183\n",
            "Epoch [56/65] | Step [200/253] | Loss D: 0.6860 | Loss G: 2.2656\n",
            "Epoch [57/65] | Step [0/253] | Loss D: 0.9278 | Loss G: 3.3372\n",
            "Epoch [57/65] | Step [100/253] | Loss D: 0.7159 | Loss G: 1.7411\n",
            "Epoch [57/65] | Step [200/253] | Loss D: 0.7033 | Loss G: 2.0174\n",
            "Epoch [58/65] | Step [0/253] | Loss D: 0.7724 | Loss G: 0.9100\n",
            "Epoch [58/65] | Step [100/253] | Loss D: 0.7164 | Loss G: 1.6517\n",
            "Epoch [58/65] | Step [200/253] | Loss D: 0.8685 | Loss G: 2.1975\n",
            "Epoch [59/65] | Step [0/253] | Loss D: 0.7628 | Loss G: 2.1878\n",
            "Epoch [59/65] | Step [100/253] | Loss D: 0.6982 | Loss G: 1.9092\n",
            "Epoch [59/65] | Step [200/253] | Loss D: 0.6856 | Loss G: 2.3065\n",
            "Epoch [60/65] | Step [0/253] | Loss D: 2.3869 | Loss G: 4.8311\n",
            "Epoch [60/65] | Step [100/253] | Loss D: 0.7218 | Loss G: 2.3710\n",
            "Epoch [60/65] | Step [200/253] | Loss D: 0.6886 | Loss G: 2.0561\n",
            "Epoch [61/65] | Step [0/253] | Loss D: 0.8019 | Loss G: 1.3708\n",
            "Epoch [61/65] | Step [100/253] | Loss D: 0.7387 | Loss G: 2.7777\n",
            "Epoch [61/65] | Step [200/253] | Loss D: 0.7012 | Loss G: 2.0344\n",
            "Epoch [62/65] | Step [0/253] | Loss D: 1.8821 | Loss G: 4.9031\n",
            "Epoch [62/65] | Step [100/253] | Loss D: 0.8442 | Loss G: 1.2075\n",
            "Epoch [62/65] | Step [200/253] | Loss D: 0.7474 | Loss G: 1.2127\n",
            "Epoch [63/65] | Step [0/253] | Loss D: 1.7718 | Loss G: 3.8537\n",
            "Epoch [63/65] | Step [100/253] | Loss D: 0.6970 | Loss G: 2.0499\n",
            "Epoch [63/65] | Step [200/253] | Loss D: 0.8167 | Loss G: 3.4888\n",
            "Epoch [64/65] | Step [0/253] | Loss D: 0.9469 | Loss G: 3.2148\n",
            "Epoch [64/65] | Step [100/253] | Loss D: 0.6965 | Loss G: 1.6395\n",
            "Epoch [64/65] | Step [200/253] | Loss D: 0.7126 | Loss G: 1.1705\n",
            "Training complete! Model weights and images saved.\n"
          ]
        }
      ]
    },
    {
      "cell_type": "markdown",
      "source": [
        "We save the weights of both models for loading."
      ],
      "metadata": {
        "id": "bXOf96QJs8KX"
      }
    },
    {
      "cell_type": "code",
      "source": [
        "from google.colab import files\n",
        "\n",
        "files.download(\"models/generator.pth\")\n",
        "files.download(\"models/discriminator.pth\")\n"
      ],
      "metadata": {
        "id": "T5b44TYU7PDj",
        "colab": {
          "base_uri": "https://localhost:8080/",
          "height": 17
        },
        "outputId": "6c1cb0cf-eb0e-4bad-d485-e0540f58cc60"
      },
      "execution_count": null,
      "outputs": [
        {
          "output_type": "display_data",
          "data": {
            "text/plain": [
              "<IPython.core.display.Javascript object>"
            ],
            "application/javascript": [
              "\n",
              "    async function download(id, filename, size) {\n",
              "      if (!google.colab.kernel.accessAllowed) {\n",
              "        return;\n",
              "      }\n",
              "      const div = document.createElement('div');\n",
              "      const label = document.createElement('label');\n",
              "      label.textContent = `Downloading \"${filename}\": `;\n",
              "      div.appendChild(label);\n",
              "      const progress = document.createElement('progress');\n",
              "      progress.max = size;\n",
              "      div.appendChild(progress);\n",
              "      document.body.appendChild(div);\n",
              "\n",
              "      const buffers = [];\n",
              "      let downloaded = 0;\n",
              "\n",
              "      const channel = await google.colab.kernel.comms.open(id);\n",
              "      // Send a message to notify the kernel that we're ready.\n",
              "      channel.send({})\n",
              "\n",
              "      for await (const message of channel.messages) {\n",
              "        // Send a message to notify the kernel that we're ready.\n",
              "        channel.send({})\n",
              "        if (message.buffers) {\n",
              "          for (const buffer of message.buffers) {\n",
              "            buffers.push(buffer);\n",
              "            downloaded += buffer.byteLength;\n",
              "            progress.value = downloaded;\n",
              "          }\n",
              "        }\n",
              "      }\n",
              "      const blob = new Blob(buffers, {type: 'application/binary'});\n",
              "      const a = document.createElement('a');\n",
              "      a.href = window.URL.createObjectURL(blob);\n",
              "      a.download = filename;\n",
              "      div.appendChild(a);\n",
              "      a.click();\n",
              "      div.remove();\n",
              "    }\n",
              "  "
            ]
          },
          "metadata": {}
        },
        {
          "output_type": "display_data",
          "data": {
            "text/plain": [
              "<IPython.core.display.Javascript object>"
            ],
            "application/javascript": [
              "download(\"download_44e64256-af69-413f-90a7-ed51d3164c4c\", \"generator.pth\", 14450239)"
            ]
          },
          "metadata": {}
        },
        {
          "output_type": "display_data",
          "data": {
            "text/plain": [
              "<IPython.core.display.Javascript object>"
            ],
            "application/javascript": [
              "\n",
              "    async function download(id, filename, size) {\n",
              "      if (!google.colab.kernel.accessAllowed) {\n",
              "        return;\n",
              "      }\n",
              "      const div = document.createElement('div');\n",
              "      const label = document.createElement('label');\n",
              "      label.textContent = `Downloading \"${filename}\": `;\n",
              "      div.appendChild(label);\n",
              "      const progress = document.createElement('progress');\n",
              "      progress.max = size;\n",
              "      div.appendChild(progress);\n",
              "      document.body.appendChild(div);\n",
              "\n",
              "      const buffers = [];\n",
              "      let downloaded = 0;\n",
              "\n",
              "      const channel = await google.colab.kernel.comms.open(id);\n",
              "      // Send a message to notify the kernel that we're ready.\n",
              "      channel.send({})\n",
              "\n",
              "      for await (const message of channel.messages) {\n",
              "        // Send a message to notify the kernel that we're ready.\n",
              "        channel.send({})\n",
              "        if (message.buffers) {\n",
              "          for (const buffer of message.buffers) {\n",
              "            buffers.push(buffer);\n",
              "            downloaded += buffer.byteLength;\n",
              "            progress.value = downloaded;\n",
              "          }\n",
              "        }\n",
              "      }\n",
              "      const blob = new Blob(buffers, {type: 'application/binary'});\n",
              "      const a = document.createElement('a');\n",
              "      a.href = window.URL.createObjectURL(blob);\n",
              "      a.download = filename;\n",
              "      div.appendChild(a);\n",
              "      a.click();\n",
              "      div.remove();\n",
              "    }\n",
              "  "
            ]
          },
          "metadata": {}
        },
        {
          "output_type": "display_data",
          "data": {
            "text/plain": [
              "<IPython.core.display.Javascript object>"
            ],
            "application/javascript": [
              "download(\"download_38744327-bffa-476c-9ccf-da034f3d66ea\", \"discriminator.pth\", 11275872)"
            ]
          },
          "metadata": {}
        }
      ]
    },
    {
      "cell_type": "markdown",
      "source": [
        "We load the trained model and use it to generate synthetic images of animals."
      ],
      "metadata": {
        "id": "IGglocg_tA0z"
      }
    },
    {
      "cell_type": "code",
      "source": [
        "import torch\n",
        "import torchvision.utils as vutils\n",
        "import matplotlib.pyplot as plt\n",
        "\n",
        "# Define device\n",
        "device = torch.device(\"cuda\" if torch.cuda.is_available() else \"cpu\")\n",
        "\n",
        "# Define latent dimension (\n",
        "latent_dim = 100\n",
        "\n",
        "# Load the trained Generator and Discriminator\n",
        "generator = Generator()\n",
        "discriminator = Discriminator()\n",
        "\n",
        "generator.load_state_dict(torch.load(\"models/generator.pth\", map_location=device))\n",
        "discriminator.load_state_dict(torch.load(\"models/discriminator.pth\", map_location=device))\n",
        "\n",
        "generator.to(device).eval()\n",
        "discriminator.to(device).eval()\n",
        "\n",
        "# Generate a new image\n",
        "with torch.no_grad():\n",
        "    noise = torch.randn(1, latent_dim, 1, 1, device=device)  # Generate a single random noise vector\n",
        "    generated_image = generator(noise).cpu()\n",
        "\n",
        "# Evaluate the image with the discriminator\n",
        "with torch.no_grad():\n",
        "    disc_output = discriminator(generated_image.to(device))\n",
        "    confidence = torch.sigmoid(disc_output).item()  # Convert to probability\n",
        "\n",
        "# Save the generated image\n",
        "image_path = \"generated_sample.png\"\n",
        "vutils.save_image(generated_image, image_path, normalize=True)\n",
        "\n",
        "# Display the image with discriminator confidence score\n",
        "plt.imshow(generated_image.squeeze(0).permute(1, 2, 0))\n",
        "plt.axis(\"off\")\n",
        "plt.title(f\"Discriminator Score: {confidence:.4f}\")\n",
        "plt.show()\n",
        "\n",
        "print(f\"Generated image saved as {image_path}\")\n"
      ],
      "metadata": {
        "id": "q7iPG-fYTUyr",
        "colab": {
          "base_uri": "https://localhost:8080/",
          "height": 483
        },
        "outputId": "d9d59adf-dc24-48df-8341-bc9621a1ebce"
      },
      "execution_count": null,
      "outputs": [
        {
          "output_type": "stream",
          "name": "stderr",
          "text": [
            "WARNING:matplotlib.image:Clipping input data to the valid range for imshow with RGB data ([0..1] for floats or [0..255] for integers). Got range [-0.9822009..0.97844917].\n"
          ]
        },
        {
          "output_type": "display_data",
          "data": {
            "text/plain": [
              "<Figure size 640x480 with 1 Axes>"
            ],
            "image/png": "[encoded data removed]"
          },
          "metadata": {}
        },
        {
          "output_type": "stream",
          "name": "stdout",
          "text": [
            "Generated image saved as generated_sample.png\n"
          ]
        }
      ]
    }
  ]
}